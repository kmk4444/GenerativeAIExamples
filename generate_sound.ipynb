{
  "nbformat": 4,
  "nbformat_minor": 0,
  "metadata": {
    "colab": {
      "provenance": [],
      "authorship_tag": "ABX9TyODmzUgjtqg53ZhFk42ujyK",
      "include_colab_link": true
    },
    "kernelspec": {
      "name": "python3",
      "display_name": "Python 3"
    },
    "language_info": {
      "name": "python"
    }
  },
  "cells": [
    {
      "cell_type": "markdown",
      "metadata": {
        "id": "view-in-github",
        "colab_type": "text"
      },
      "source": [
        "<a href=\"https://colab.research.google.com/github/kmk4444/LLM/blob/main/generate_sound.ipynb\" target=\"_parent\"><img src=\"https://colab.research.google.com/assets/colab-badge.svg\" alt=\"Open In Colab\"/></a>"
      ]
    },
    {
      "cell_type": "markdown",
      "source": [
        "- **Requirements.txt**"
      ],
      "metadata": {
        "id": "yi8NxTl9Vw2J"
      }
    },
    {
      "cell_type": "code",
      "source": [
        "!touch requirements.txt\n",
        "!echo python-dotenv >> requirements.txt\n",
        "!echo openai >> requirements.txt\n",
        "!echo streamlit >> requirements.txt\n",
        "!echo assemblyai >> requirements.txt\n",
        "!echo replicate >> requirements.txt"
      ],
      "metadata": {
        "id": "v-l_DhApVXds"
      },
      "execution_count": 1,
      "outputs": []
    },
    {
      "cell_type": "markdown",
      "source": [
        "- **terminal / bash komutu**"
      ],
      "metadata": {
        "id": "UVKaDCaiWWit"
      }
    },
    {
      "cell_type": "code",
      "source": [
        "pip install -r requirements.txt"
      ],
      "metadata": {
        "id": "rvBH6FTMWZWp"
      },
      "execution_count": null,
      "outputs": []
    },
    {
      "cell_type": "code",
      "source": [
        "%%writefile audio_ops.py\n",
        "from openai import OpenAI\n",
        "import assemblyai as aai\n",
        "import streamlit as st\n",
        "import os\n",
        "from dotenv import load_dotenv\n",
        "\n",
        "#load_dotenv()\n",
        "#my_key_openai = os.getenv(\"openai_apikey\")\n",
        "#my_key_assemblyai= os.getenv(\"assemblyai_apikey\")\n",
        "\n",
        "client = OpenAI(\n",
        "    api_key=\"---\"\n",
        ")\n",
        "\n",
        "\n",
        "def create_speech_from_text(prompt, speech_file_name, voice_type=\"alloy\"):\n",
        "  AI_Response = client.audio.speech.create(\n",
        "      model=\"tts-1\",\n",
        "      voice=voice_type,\n",
        "      response_format=\"mp3\", #type of result: aac, flac, mp3 or opus\n",
        "      input=prompt\n",
        "  )\n",
        "  #  analysis process of result\n",
        "\n",
        "  AI_Response.stream_to_file(speech_file_name) # we save output to speech_file_name\n",
        "  # Actually, it creates and saves a sound file in local system. local adress is speech_file_name\n",
        "  return \"Seslendirme işlemi tamamlandı.\"\n",
        "\n",
        "# We crate four tabs for our interface.\n",
        "tab_TTS, tab_whisper, tab_translation, tab_conformer = st.tabs(\n",
        "    [\n",
        "     \"TTS ile Ses Sentezleme\",\n",
        "     \"Whisper ile Transkripsiyon\",\n",
        "     \"Whisper ile Tercüme\",\n",
        "     \"Conformer ile Transkripsiyon\"\n",
        "     ]\n",
        ")\n",
        "\n",
        "# This tab is related to TTS-1 model\n",
        "with tab_TTS:\n",
        "  st.subheader(\"TTS-1 Modeli ile Konuşma Sentezleme\")\n",
        "  st.divider()\n",
        "\n",
        "  prompt = st.text_input(\"Seslendirmek istediğiniz metni giriniz\",key=\"prompt_tts\")\n",
        "  voices = [\"alloy\", \"echo\", \"fable\", \"onyx\", \"nova\", \"shimmer\"] # voice types\n",
        "  voice_type = st.selectbox(label=\"Ses tercihiniz:\", options=voices, key=\"voice_tts\") # user selects voice types.\n",
        "  generate_btn = st.button(\"Ses Sentezle\", key=\"button_tts\")\n",
        "\n",
        "  if generate_btn:\n",
        "    status = create_speech_from_text(prompt=prompt,speech_file_name=\"speech.mp3\",voice_type=voice_type)\n",
        "    st.success(status)\n",
        "\n",
        "    audio_file = open(\"speech.mp3\",\"rb\") # rb: read binary. Emter file adress and make read binary. We want to temporarily save a sound file\n",
        "    audio_bytes = audio_file.read() # we save sound bytes for streamlit.\n",
        "\n",
        "    st.audio(data=audio_bytes,format=\"audio/mp3\")\n",
        "    st.balloons()\n"
      ],
      "metadata": {
        "colab": {
          "base_uri": "https://localhost:8080/"
        },
        "id": "StG0SguBWe6y",
        "outputId": "dd908cc4-539b-4495-bc07-7507f83a725c"
      },
      "execution_count": 7,
      "outputs": [
        {
          "output_type": "stream",
          "name": "stdout",
          "text": [
            "Overwriting audio_ops.py\n"
          ]
        }
      ]
    },
    {
      "cell_type": "code",
      "source": [
        "!npm install localtunnel\n",
        "!streamlit run /content/audio_ops.py &>/content/logs.txt &\n",
        "!npx localtunnel --port 8501"
      ],
      "metadata": {
        "colab": {
          "base_uri": "https://localhost:8080/"
        },
        "id": "njZknU3sg-Aa",
        "outputId": "0a341321-e137-4656-fb6f-e4dd4d71ef26"
      },
      "execution_count": 8,
      "outputs": [
        {
          "output_type": "stream",
          "name": "stdout",
          "text": [
            "\u001b[K\u001b[?25h\u001b[37;40mnpm\u001b[0m \u001b[0m\u001b[30;43mWARN\u001b[0m \u001b[0m\u001b[35msaveError\u001b[0m ENOENT: no such file or directory, open '/content/package.json'\n",
            "\u001b[0m\u001b[37;40mnpm\u001b[0m \u001b[0m\u001b[30;43mWARN\u001b[0m \u001b[0m\u001b[35menoent\u001b[0m ENOENT: no such file or directory, open '/content/package.json'\n",
            "\u001b[0m\u001b[37;40mnpm\u001b[0m \u001b[0m\u001b[30;43mWARN\u001b[0m\u001b[35m\u001b[0m content No description\n",
            "\u001b[0m\u001b[37;40mnpm\u001b[0m \u001b[0m\u001b[30;43mWARN\u001b[0m\u001b[35m\u001b[0m content No repository field.\n",
            "\u001b[0m\u001b[37;40mnpm\u001b[0m \u001b[0m\u001b[30;43mWARN\u001b[0m\u001b[35m\u001b[0m content No README data\n",
            "\u001b[0m\u001b[37;40mnpm\u001b[0m \u001b[0m\u001b[30;43mWARN\u001b[0m\u001b[35m\u001b[0m content No license field.\n",
            "\u001b[0m\n",
            "+ localtunnel@2.0.2\n",
            "updated 1 package and audited 36 packages in 0.523s\n",
            "\n",
            "3 packages are looking for funding\n",
            "  run `npm fund` for details\n",
            "\n",
            "found 2 \u001b[93mmoderate\u001b[0m severity vulnerabilities\n",
            "  run `npm audit fix` to fix them, or `npm audit` for details\n",
            "\u001b[K\u001b[?25hnpx: installed 22 in 1.957s\n",
            "your url is: https://loose-spoons-punch.loca.lt\n",
            "^C\n"
          ]
        }
      ]
    }
  ]
}