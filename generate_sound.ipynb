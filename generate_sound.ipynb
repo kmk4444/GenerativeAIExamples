{
  "nbformat": 4,
  "nbformat_minor": 0,
  "metadata": {
    "colab": {
      "provenance": [],
      "authorship_tag": "ABX9TyMrdwqZUl3Lveor6MFsQESf",
      "include_colab_link": true
    },
    "kernelspec": {
      "name": "python3",
      "display_name": "Python 3"
    },
    "language_info": {
      "name": "python"
    }
  },
  "cells": [
    {
      "cell_type": "markdown",
      "metadata": {
        "id": "view-in-github",
        "colab_type": "text"
      },
      "source": [
        "<a href=\"https://colab.research.google.com/github/kmk4444/LLM/blob/main/generate_sound.ipynb\" target=\"_parent\"><img src=\"https://colab.research.google.com/assets/colab-badge.svg\" alt=\"Open In Colab\"/></a>"
      ]
    },
    {
      "cell_type": "markdown",
      "source": [
        "- **Requirements.txt**"
      ],
      "metadata": {
        "id": "yi8NxTl9Vw2J"
      }
    },
    {
      "cell_type": "code",
      "source": [
        "!touch requirements.txt\n",
        "!echo python-dotenv >> requirements.txt\n",
        "!echo openai >> requirements.txt\n",
        "!echo streamlit >> requirements.txt\n",
        "!echo assemblyai >> requirements.txt\n",
        "!echo replicate >> requirements.txt"
      ],
      "metadata": {
        "id": "v-l_DhApVXds"
      },
      "execution_count": 1,
      "outputs": []
    },
    {
      "cell_type": "markdown",
      "source": [
        "- **terminal / bash komutu**"
      ],
      "metadata": {
        "id": "UVKaDCaiWWit"
      }
    },
    {
      "cell_type": "code",
      "source": [
        "pip install -r requirements.txt"
      ],
      "metadata": {
        "id": "rvBH6FTMWZWp"
      },
      "execution_count": null,
      "outputs": []
    },
    {
      "cell_type": "code",
      "source": [
        "#%%writefile audio_ops.py\n",
        "from openai import OpenAI\n",
        "import assemblyai as aai\n",
        "import streamlit as st\n",
        "import os\n",
        "from dotenv import load_dotenv\n",
        "\n",
        "#load_dotenv()\n",
        "#my_key_openai = os.getenv(\"openai_apikey\")\n",
        "#my_key_assemblyai= os.getenv(\"assemblyai_apikey\")\n",
        "\n",
        "client = OpenAI(\n",
        "    api_key=my_key_openai\n",
        ")\n",
        "\n",
        "\n",
        "def create_speech_from_text(prompt, speech_file_name, voice_type=\"alloy\"):\n",
        "  AI_Response = client.audio.speech.create(\n",
        "      model=\"tts-1\",\n",
        "      voice=voice_type,\n",
        "      response_format=\"mp3\" #type of result: aac, flac, mp3 or opus\n",
        "      input=prompt\n",
        "  )\n",
        "  #  analysis process of result\n",
        "\n",
        "  AI_Response.stream_to_file(speech_file_name) # we save output to speech_file_name\n",
        "  # Actually, it creates and saves a sound file in local system. local adress is speech_file_name\n",
        "  return \"Seslendirme işlemi tamamlandı.\"\n",
        "\n",
        "# We crate four tabs for our interface.\n",
        "tab_TTS, tab_whisper, tab_translation, tab_conformer = st.tabs(\n",
        "    [\n",
        "     \"TTS ile Ses Sentezleme\",\n",
        "     \"Whisper ile Transkripsiyon\",\n",
        "     \"Whisper ile Tercüme\",\n",
        "     \"Conformer ile Transkripsiyon\"\n",
        "     ]\n",
        ")\n",
        "\n",
        "# This tab is related to TTS-1 model\n",
        "with tab_TTS:\n",
        "  st.subheader(\"TTS-1 Modeli ile Konuşma Sentezleme\")\n",
        "  st.divider()\n",
        "\n",
        "  prompt = st.text_input(\"Seslendirmek istediğiniz metni giriniz\",key=\"prompt_tts\")\n",
        "  voices = [\"alloy\", \"echo\", \"fable\", \"onyx\", \"nova\", \"shimmer\"] # voice types\n",
        "  voice_type = st.selectbox(label=\"Ses tercihiniz:\", options=voices, key=\"voice_tts\") # user selects voice types.\n",
        "  generate_btn = st.button(\"Ses Sentezle\", key=\"button_tts\")\n",
        "\n",
        "  if generate_btn:\n",
        "    status = create_speech_from_text(prompt=prompt,speech_file_name=\"speech.mp3\",voice_type=voice_type)\n",
        "    st.success(status)\n",
        "\n",
        "    audio_file = open(\"speech.mp3\",\"rb\") # rb: read binary. Emter file adress and make read binary. We want to temporarily save a sound file\n",
        "    audio_bytes = audio_file.read() # we save sound bytes for streamlit.\n",
        "\n",
        "    st.audio(data=audio_bytes,format=\"audio/mp3\")\n",
        "    st.ballons()\n"
      ],
      "metadata": {
        "id": "StG0SguBWe6y"
      },
      "execution_count": null,
      "outputs": []
    }
  ]
}