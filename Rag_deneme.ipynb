{
  "nbformat": 4,
  "nbformat_minor": 0,
  "metadata": {
    "colab": {
      "provenance": [],
      "authorship_tag": "ABX9TyPf5sbued1QsZXOZOWguxG9",
      "include_colab_link": true
    },
    "kernelspec": {
      "name": "python3",
      "display_name": "Python 3"
    },
    "language_info": {
      "name": "python"
    }
  },
  "cells": [
    {
      "cell_type": "markdown",
      "metadata": {
        "id": "view-in-github",
        "colab_type": "text"
      },
      "source": [
        "<a href=\"https://colab.research.google.com/github/kmk4444/LLM/blob/main/Rag_deneme.ipynb\" target=\"_parent\"><img src=\"https://colab.research.google.com/assets/colab-badge.svg\" alt=\"Open In Colab\"/></a>"
      ]
    },
    {
      "cell_type": "code",
      "execution_count": null,
      "metadata": {
        "id": "9A8KtK9fHpvF"
      },
      "outputs": [],
      "source": [
        "from langchain_google_genai import ChatGoogleGenerativeAI\n",
        "from langchain_community.document_loaders import WebBaseLoader\n",
        "from langchain_community.vectorstores.faiss import FAISS\n",
        "from langchain.text_splitter import RecursiveCharacterTextSplitter\n",
        "from langchain_community.embeddings import CohereEmbeddings\n",
        "import os\n",
        "from dotenv import load_dotenv\n",
        "\n",
        "load_dotenv()\n",
        "\n",
        "my_key_google = os.getenv(\"google_apikey\")\n",
        "my_key_cohere = os.getenv(\"cohere_apikey\")\n",
        "\n",
        "llm_gemini = ChatGoogleGenerativeAI(google_api_key=my_key_google, model=\"gemini-pro\")\n",
        "embeddings = CohereEmbeddings(cohere_api_key=my_key_cohere, model=\"embed-multilingual-v3.0\")\n",
        "\n",
        "def ask_gemini(prompt):\n",
        "\n",
        "    AI_Response = llm_gemini.invoke(prompt)\n",
        "\n",
        "    return AI_Response.content\n",
        "\n",
        "\n",
        "def rag_with_url(target_url, prompt):\n",
        "\n",
        "    loader = WebBaseLoader(target_url)\n",
        "\n",
        "    raw_documents = loader.load()\n",
        "\n",
        "    text_splitter = RecursiveCharacterTextSplitter(\n",
        "        chunk_size=1000,\n",
        "        chunk_overlap=0,\n",
        "        length_function=len\n",
        "    )\n",
        "\n",
        "\n",
        "    splitted_documents = text_splitter.split_documents(raw_documents)\n",
        "\n",
        "    vectorstore = FAISS.from_documents(splitted_documents, embeddings)\n",
        "    retriever = vectorstore.as_retriever()\n",
        "\n",
        "    relevant_documents = retriever.get_relevant_documents(prompt)\n",
        "\n",
        "    context_data = \"\"\n",
        "\n",
        "    for document in relevant_documents:\n",
        "        context_data = context_data + \" \" + document.page_content\n",
        "\n",
        "    final_prompt = f\"\"\"Şöyle bir sorum var: {prompt}\n",
        "    Bu soruyu yanıtlamak için elimizde şu bilgiler var: {context_data} .\n",
        "    Bu sorunun yanıtını vermek için yalnızca sana burada verdiğim eldeki bilgileri kullan. Bunların dışına asla çıkma.\n",
        "    \"\"\"\n",
        "\n",
        "    AI_Response = ask_gemini(prompt=final_prompt)\n",
        "\n",
        "    return AI_Response, relevant_documents\n",
        "\n",
        "\n",
        "test_url = \"https://kpmg.com/tr/tr/home/gorusler/2023/12/uretken-yapay-zeka-uygulamalarinin-kurumsallasma-yaklasimi.html\"\n",
        "\n",
        "test_question = \"Üretken yapay zeka uygulamalarının hayata geçirirken yaşanan temel sorunlar neler?\"\n",
        "\n",
        "AI_Response, relevant_documents = rag_with_url(target_url=test_url, prompt=test_question)\n",
        "\n",
        "print(f\"SORU: {test_question}\")\n",
        "print(\"-\"*100)\n",
        "print(f\"YZ YANITI: {AI_Response}\")\n",
        "print(\"-\"*100)\n",
        "for doc in relevant_documents:\n",
        "    print(doc.page_content)\n",
        "    print(\"*\"*100)"
      ]
    }
  ]
}