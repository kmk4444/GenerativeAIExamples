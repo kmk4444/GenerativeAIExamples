{
  "nbformat": 4,
  "nbformat_minor": 0,
  "metadata": {
    "colab": {
      "provenance": [],
      "authorship_tag": "ABX9TyPwTqpvw8Od3MRI9Dp4inPg",
      "include_colab_link": true
    },
    "kernelspec": {
      "name": "python3",
      "display_name": "Python 3"
    },
    "language_info": {
      "name": "python"
    }
  },
  "cells": [
    {
      "cell_type": "markdown",
      "metadata": {
        "id": "view-in-github",
        "colab_type": "text"
      },
      "source": [
        "<a href=\"https://colab.research.google.com/github/kmk4444/LLM/blob/main/Rag_deneme.ipynb\" target=\"_parent\"><img src=\"https://colab.research.google.com/assets/colab-badge.svg\" alt=\"Open In Colab\"/></a>"
      ]
    },
    {
      "cell_type": "code",
      "source": [
        "!touch requirements.txt\n",
        "!echo langchain >> requirements.txt\n",
        "!echo langchain-openai >> requirements.txt\n",
        "!echo openai >> requirements.txt\n",
        "!echo langchain-google-genai >> requirements.txt\n",
        "!echo cohere >> requirements.txt\n",
        "!echo faiss-cpu >> requirements.txt\n",
        "!echo streamlit >> requirements.txt\n",
        "!echo python-dotenv >> requirements.txt\n",
        "!echo llama-index >> requirements.txt\n",
        "!echo pypdf >> requirements.txt\n",
        "!echo chromadb >> requirements.tx\n",
        "!echo beautifulsoup4 >> requirements.tx\n",
        "!echo matplotlib >> requirements.tx\n",
        "!echo rank_bm25 >> requirements.tx\n",
        "!echo replicate >> requirements.txt"
      ],
      "metadata": {
        "id": "g9KUDPcStVs3"
      },
      "execution_count": 2,
      "outputs": []
    },
    {
      "cell_type": "code",
      "source": [
        "pip install -r requirements.txt"
      ],
      "metadata": {
        "id": "F5nvpug2uEZa"
      },
      "execution_count": null,
      "outputs": []
    },
    {
      "cell_type": "code",
      "execution_count": 2,
      "metadata": {
        "id": "9A8KtK9fHpvF",
        "outputId": "6e4a64fd-d340-44b6-af93-a082ec5b92e7",
        "colab": {
          "base_uri": "https://localhost:8080/"
        }
      },
      "outputs": [
        {
          "output_type": "stream",
          "name": "stderr",
          "text": [
            "/usr/local/lib/python3.10/dist-packages/langchain_core/_api/deprecation.py:119: LangChainDeprecationWarning: The class `CohereEmbeddings` was deprecated in LangChain 0.0.30 and will be removed in 0.2.0. An updated version of the class exists in the langchain-cohere package and should be used instead. To use it run `pip install -U langchain-cohere` and import as `from langchain_cohere import CohereEmbeddings`.\n",
            "  warn_deprecated(\n"
          ]
        },
        {
          "output_type": "stream",
          "name": "stdout",
          "text": [
            "SORU: Üretken yapay zeka uygulamalarının hayata geçirirken yaşanan temel sorunlar neler?\n",
            "----------------------------------------------------------------------------------------------------\n",
            "YZ YANITI: **Üretken Yapay Zeka Uygulamalarını Hayata Geçirirken Yaşanan Temel Sorunlar:**\n",
            "\n",
            "* **Yetenek Kazanımı:** Yapay zeka mühendislerinin azlığı, yetkin ekipler kurmayı ve yeni geliştirmeler yapmayı zorlaştırıyor.\n",
            "* **Yapay Zekaya Güven:** Üretken yapay zekanın sonuçlarının güvenilirliği ve açıklanabilirliği, kritik sistemlerde kullanılmasını engelliyor.\n",
            "----------------------------------------------------------------------------------------------------\n",
            "Yetenek Kazanımı: Veri bilimcilerin bile kurumlarda tutundurulmasının zor olduğu bir dünyada üretken yapay zeka alanında yetkinlik sahibi olan yapay zeka mühendislerinin azlığı, sürdürülebilir bir ekip kurma ve bu alanda yeni geliştirmelerin yapılmasında büyük zorluklar yaşattı. \n",
            "Yapay Zekaya Güven: Üretken yapay zekanın ürettiği sonuçların operasyonel bir sistemin karar verme alma noktalarına entegre edildiği noktada, sonucun tutarlılık ve açıklanabilirliği ile ilgili yarattığı güven kaygısı, kritik sistemlerde kullanılmamasına yol açtı. Zira LLM’lerin kural bazlı ya da temel veri bilimi modellerinin aksine “tepki vermeme, sonuç vermeme” yerine “doğru olmasa da mümkün olduğunca geçerli bir sonuç vereyim” motivasyonu kurumlar gibi “sıfır-hata” hedefleyen organizasyonlar için ciddi güven sorunları yarattı.\n",
            "****************************************************************************************************\n",
            "İşletmelerde Üretken Yapay Zeka Kullanımları, Yaşanan Zorluklar\n",
            "****************************************************************************************************\n",
            "Go to bottom of page\n",
            "\n",
            "\n",
            "\n",
            "\n",
            "\n",
            "\n",
            "\n",
            "\n",
            "\n",
            "\n",
            "\n",
            "\n",
            "\n",
            "\n",
            "\n",
            "Home\n",
            "›\n",
            "\n",
            "Görüşler\n",
            "›\n",
            "\n",
            "Üretken Yapay Zeka Uygulamalarının Kurumsallaşma Yaklaşımı\n",
            "\n",
            "\n",
            "\n",
            "\n",
            "\n",
            "19 dakika okunma süresi\n",
            "\n",
            "\n",
            "\n",
            "\n",
            "\n",
            "\n",
            "\n",
            "\n",
            "\n",
            "\n",
            "\n",
            "\n",
            "Üretken Yapay Zeka Neden Bu Kadar Popüler Oldu?\n",
            "****************************************************************************************************\n",
            "Bu yazıda amaçlanan işletmelerin üretken yapay zeka uygulamalarını ölçeklenebilir seviyede nasıl kullanabilecekleriyle ilgili bir mimari çözüm yaklaşımını aktarmaktır. \n",
            "On-prem açık kaynaklı LLM’lerden LLaMA ve Mistral 7B’nin 7 milyar, bulut üzerinden hizmet veren OpenAI GPT-3’ün 175 milyar, GPT-4’ün ise bilinmeyen büyüklükte parametreye sahip olduğu düşünülürse devasa LLM’lerin organizasyonlarda doğrudan kullanılması çok zordur. \n",
            "Böyle bir üretken yapay zeka uygulaması, gelen değişken talep yoğunluğu, yüksek sayıda eş zamanlı istemci sayıları gibi sadece performans boyutuyla bile bakıldığında çok büyük GPU ve diğer donanım yatırımlarına ihtiyaç duymaktadır. Bu kadar büyük yatırımların zorlayıcı finansal etkisinin yanı sıra işletmelerin sürdürülebilirlik hedeflerinde su ve enerji tüketiminde dünyaya olan olumsuz etkisi de değerlendirilmelidir.\n",
            "****************************************************************************************************\n"
          ]
        }
      ],
      "source": [
        "from langchain_google_genai import ChatGoogleGenerativeAI\n",
        "from langchain_community.document_loaders import WebBaseLoader\n",
        "from langchain_community.vectorstores.faiss import FAISS\n",
        "from langchain.text_splitter import RecursiveCharacterTextSplitter\n",
        "from langchain_community.embeddings import CohereEmbeddings\n",
        "import os\n",
        "from dotenv import load_dotenv\n",
        "\n",
        "load_dotenv()\n",
        "\n",
        "#my_key_google = os.getenv(\"google_apikey\")\n",
        "#my_key_cohere = os.getenv(\"cohere_apikey\")\n",
        "my_key_google = \"---\"\n",
        "my_key_cohere= \"----\"\n",
        "\n",
        "llm_gemini = ChatGoogleGenerativeAI(google_api_key=my_key_google, model=\"gemini-pro\")\n",
        "embeddings = CohereEmbeddings(cohere_api_key=my_key_cohere, model=\"embed-multilingual-v3.0\")\n",
        "\n",
        "def ask_gemini(prompt):\n",
        "\n",
        "    AI_Response = llm_gemini.invoke(prompt)\n",
        "\n",
        "    return AI_Response.content\n",
        "\n",
        "\n",
        "def rag_with_url(target_url, prompt):\n",
        "\n",
        "    loader = WebBaseLoader(target_url)\n",
        "\n",
        "    raw_documents = loader.load()\n",
        "\n",
        "    text_splitter = RecursiveCharacterTextSplitter(\n",
        "        chunk_size=1000,\n",
        "        chunk_overlap=0,\n",
        "        length_function=len\n",
        "    )\n",
        "\n",
        "\n",
        "    splitted_documents = text_splitter.split_documents(raw_documents)\n",
        "\n",
        "    vectorstore = FAISS.from_documents(splitted_documents, embeddings)\n",
        "    retriever = vectorstore.as_retriever()\n",
        "\n",
        "    relevant_documents = retriever.get_relevant_documents(prompt)\n",
        "\n",
        "    context_data = \"\"\n",
        "\n",
        "    for document in relevant_documents:\n",
        "        context_data = context_data + \" \" + document.page_content\n",
        "\n",
        "    final_prompt = f\"\"\"Şöyle bir sorum var: {prompt}\n",
        "    Bu soruyu yanıtlamak için elimizde şu bilgiler var: {context_data} .\n",
        "    Bu sorunun yanıtını vermek için yalnızca sana burada verdiğim eldeki bilgileri kullan. Bunların dışına asla çıkma.\n",
        "    \"\"\"\n",
        "\n",
        "    AI_Response = ask_gemini(prompt=final_prompt)\n",
        "\n",
        "    return AI_Response, relevant_documents\n",
        "\n",
        "\n",
        "test_url = \"https://kpmg.com/tr/tr/home/gorusler/2023/12/uretken-yapay-zeka-uygulamalarinin-kurumsallasma-yaklasimi.html\"\n",
        "\n",
        "test_question = \"Üretken yapay zeka uygulamalarının hayata geçirirken yaşanan temel sorunlar neler?\"\n",
        "\n",
        "AI_Response, relevant_documents = rag_with_url(target_url=test_url, prompt=test_question)\n",
        "\n",
        "print(f\"SORU: {test_question}\")\n",
        "print(\"-\"*100)\n",
        "print(f\"YZ YANITI: {AI_Response}\")\n",
        "print(\"-\"*100)\n",
        "for doc in relevant_documents:\n",
        "    print(doc.page_content)\n",
        "    print(\"*\"*100)"
      ]
    },
    {
      "cell_type": "markdown",
      "source": [
        "https://chat.openai.com/share/492fd33e-bad4-428d-a025-8866a22ca9c6"
      ],
      "metadata": {
        "id": "6sv0Ajf8vBGm"
      }
    }
  ]
}