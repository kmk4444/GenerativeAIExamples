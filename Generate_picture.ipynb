{
  "nbformat": 4,
  "nbformat_minor": 0,
  "metadata": {
    "colab": {
      "provenance": [],
      "authorship_tag": "ABX9TyPw3D8CADpM8E2aL+ExSdEG",
      "include_colab_link": true
    },
    "kernelspec": {
      "name": "python3",
      "display_name": "Python 3"
    },
    "language_info": {
      "name": "python"
    }
  },
  "cells": [
    {
      "cell_type": "markdown",
      "metadata": {
        "id": "view-in-github",
        "colab_type": "text"
      },
      "source": [
        "<a href=\"https://colab.research.google.com/github/kmk4444/LLM/blob/main/Generate_picture.ipynb\" target=\"_parent\"><img src=\"https://colab.research.google.com/assets/colab-badge.svg\" alt=\"Open In Colab\"/></a>"
      ]
    },
    {
      "cell_type": "markdown",
      "source": [],
      "metadata": {
        "id": "mb48-tDtmbHK"
      }
    },
    {
      "cell_type": "code",
      "source": [
        "!touch requirements.txt\n",
        "!echo python-dotenv >> requirements.txt\n",
        "!echo openai >> requirements.txt\n",
        "!echo streamlit >> requirements.txt"
      ],
      "metadata": {
        "id": "GGIoivgvVBAd"
      },
      "execution_count": 2,
      "outputs": []
    },
    {
      "cell_type": "markdown",
      "source": [
        "- **terminal / bash komutu**"
      ],
      "metadata": {
        "id": "ryVBDEVPmY17"
      }
    },
    {
      "cell_type": "code",
      "source": [
        "pip install -r requirements.txt"
      ],
      "metadata": {
        "id": "ZT634dcrmVa2",
        "outputId": "42f0c976-df9d-4bec-af5b-96458d437253",
        "colab": {
          "base_uri": "https://localhost:8080/"
        }
      },
      "execution_count": 3,
      "outputs": [
        {
          "output_type": "stream",
          "name": "stdout",
          "text": [
            "Installing collected packages: watchdog, smmap, python-dotenv, h11, pydeck, httpcore, gitdb, httpx, gitpython, openai, streamlit\n",
            "Successfully installed gitdb-4.0.11 gitpython-3.1.43 h11-0.14.0 httpcore-1.0.5 httpx-0.27.0 openai-1.20.0 pydeck-0.8.1b0 python-dotenv-1.0.1 smmap-5.0.1 streamlit-1.33.0 watchdog-4.0.0\n"
          ]
        }
      ]
    },
    {
      "cell_type": "code",
      "source": [
        "%%writefile image_ops.py\n",
        "from openai import OpenAI\n",
        "import streamlit as st\n",
        "import requests # we used that for stability  AI\n",
        "from io import BytesIO # it provide to move a picture from url to local\n",
        "import base64 # We added it due to dependency on stability\n",
        "import os\n",
        "from dotenv import load_dotenv\n",
        "\n",
        "#load_dotenv()\n",
        "\n",
        "#my_key_openai = os.getenv(\"openai_apikey\")\n",
        "#my_key_stabilityai = os.getenv(\"stabilityai_apikey\")\n",
        "\n",
        "client = OpenAI(\n",
        "    api_key=\"-----\"\n",
        ")\n",
        "\n",
        "#DALL-E 3 Image Generation\n",
        "#DALL-E 3 Variation\n",
        "#SD XL Image Generation\n",
        "\n",
        "tab_generate, tab_variation, tab_SD = st.tabs([\"Resim Üret\", \"Varyasyon Oluştur\", \"Stable Diffusion\"])\n",
        "\n",
        "with tab_generate:\n",
        "  st.subheader(\"DALL-E 3 ile Görsel Oluşturma\")\n",
        "  st.divider()\n",
        "  prompt = st.text_input(\"Oluşturmak istediğiniz görseli tarif ediniz\")\n",
        "  generate_btn = st.button(\"Oluştur\")\n",
        "\n",
        "\n",
        "with tab_variation:\n",
        "  st.subheader(\"DALL-E 3 ile Görsel Varyasyonu Oluşturma\")\n",
        "  st.divider()\n",
        "  selected_file = st.file_uploader(\"PNG Formatında bir görsel seçiniz\",type=[\"png\"])\n",
        "  variaton_btn = st.button(\"Varyasyon Oluştur\")\n",
        "\n",
        "with tab_SD:\n",
        "  st.subheader(\"Stable Diffusion ile Görsel Oluşturma\")\n",
        "  st.divider()\n",
        "  SD_prompt = st.text_input(\"Oluşturmak istediğiniz görseli tarif ediniz\", key=\"sd_text_input\") # we used key because we used two prompt. If don't, it will be mistake.\n",
        "  SD_generate_btn = st.button(\"Oluştur\", key=\"sd_button\")\n",
        "\n"
      ],
      "metadata": {
        "id": "iKHhiVUbl3P_",
        "outputId": "ef480c47-6214-4d3b-d615-1359063b42f3",
        "colab": {
          "base_uri": "https://localhost:8080/"
        }
      },
      "execution_count": 6,
      "outputs": [
        {
          "output_type": "stream",
          "name": "stdout",
          "text": [
            "Writing image_ops.py\n"
          ]
        }
      ]
    },
    {
      "cell_type": "code",
      "source": [
        "!npm install localtunnel\n",
        "!streamlit run /content/image_ops.py &>/content/logs.txt &\n",
        "!npx localtunnel --port 8501"
      ],
      "metadata": {
        "id": "cfQegL1nq97u",
        "outputId": "38db4109-0ba8-4c1d-bcff-cd202bc2a9df",
        "colab": {
          "base_uri": "https://localhost:8080/"
        }
      },
      "execution_count": 7,
      "outputs": [
        {
          "output_type": "stream",
          "name": "stdout",
          "text": [
            "\u001b[K\u001b[?25h\u001b[37;40mnpm\u001b[0m \u001b[0m\u001b[30;43mWARN\u001b[0m \u001b[0m\u001b[35msaveError\u001b[0m ENOENT: no such file or directory, open '/content/package.json'\n",
            "\u001b[0m\u001b[37;40mnpm\u001b[0m \u001b[0m\u001b[34;40mnotice\u001b[0m\u001b[35m\u001b[0m created a lockfile as package-lock.json. You should commit this file.\n",
            "\u001b[0m\u001b[37;40mnpm\u001b[0m \u001b[0m\u001b[30;43mWARN\u001b[0m \u001b[0m\u001b[35menoent\u001b[0m ENOENT: no such file or directory, open '/content/package.json'\n",
            "\u001b[0m\u001b[37;40mnpm\u001b[0m \u001b[0m\u001b[30;43mWARN\u001b[0m\u001b[35m\u001b[0m content No description\n",
            "\u001b[0m\u001b[37;40mnpm\u001b[0m \u001b[0m\u001b[30;43mWARN\u001b[0m\u001b[35m\u001b[0m content No repository field.\n",
            "\u001b[0m\u001b[37;40mnpm\u001b[0m \u001b[0m\u001b[30;43mWARN\u001b[0m\u001b[35m\u001b[0m content No README data\n",
            "\u001b[0m\u001b[37;40mnpm\u001b[0m \u001b[0m\u001b[30;43mWARN\u001b[0m\u001b[35m\u001b[0m content No license field.\n",
            "\u001b[0m\n",
            "+ localtunnel@2.0.2\n",
            "added 22 packages from 22 contributors and audited 22 packages in 1.75s\n",
            "\n",
            "3 packages are looking for funding\n",
            "  run `npm fund` for details\n",
            "\n",
            "found 1 \u001b[93mmoderate\u001b[0m severity vulnerability\n",
            "  run `npm audit fix` to fix them, or `npm audit` for details\n",
            "\u001b[K\u001b[?25hnpx: installed 22 in 1.892s\n",
            "your url is: https://witty-birds-agree.loca.lt\n",
            "^C\n"
          ]
        }
      ]
    }
  ]
}