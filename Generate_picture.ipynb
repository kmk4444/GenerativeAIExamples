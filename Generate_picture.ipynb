{
  "nbformat": 4,
  "nbformat_minor": 0,
  "metadata": {
    "colab": {
      "provenance": [],
      "authorship_tag": "ABX9TyObtn54f0L02xEjLYSz/DrG",
      "include_colab_link": true
    },
    "kernelspec": {
      "name": "python3",
      "display_name": "Python 3"
    },
    "language_info": {
      "name": "python"
    }
  },
  "cells": [
    {
      "cell_type": "markdown",
      "metadata": {
        "id": "view-in-github",
        "colab_type": "text"
      },
      "source": [
        "<a href=\"https://colab.research.google.com/github/kmk4444/LLM/blob/main/Generate_picture.ipynb\" target=\"_parent\"><img src=\"https://colab.research.google.com/assets/colab-badge.svg\" alt=\"Open In Colab\"/></a>"
      ]
    },
    {
      "cell_type": "markdown",
      "source": [],
      "metadata": {
        "id": "mb48-tDtmbHK"
      }
    },
    {
      "cell_type": "code",
      "source": [
        "!touch requirements.txt\n",
        "!echo python-dotenv >> requirements.txt\n",
        "!echo openai >> requirements.txt\n",
        "!echo streamlit >> requirements.txt"
      ],
      "metadata": {
        "id": "GGIoivgvVBAd"
      },
      "execution_count": 2,
      "outputs": []
    },
    {
      "cell_type": "markdown",
      "source": [
        "- **terminal / bash komutu**"
      ],
      "metadata": {
        "id": "ryVBDEVPmY17"
      }
    },
    {
      "cell_type": "code",
      "source": [
        "pip install -r requirements.txt"
      ],
      "metadata": {
        "colab": {
          "base_uri": "https://localhost:8080/"
        },
        "id": "ZT634dcrmVa2",
        "outputId": "42f0c976-df9d-4bec-af5b-96458d437253"
      },
      "execution_count": 3,
      "outputs": [
        {
          "output_type": "stream",
          "name": "stdout",
          "text": [
            "Installing collected packages: watchdog, smmap, python-dotenv, h11, pydeck, httpcore, gitdb, httpx, gitpython, openai, streamlit\n",
            "Successfully installed gitdb-4.0.11 gitpython-3.1.43 h11-0.14.0 httpcore-1.0.5 httpx-0.27.0 openai-1.20.0 pydeck-0.8.1b0 python-dotenv-1.0.1 smmap-5.0.1 streamlit-1.33.0 watchdog-4.0.0\n"
          ]
        }
      ]
    },
    {
      "cell_type": "code",
      "source": [
        "%%writefile image_ops.py\n",
        "from openai import OpenAI\n",
        "import streamlit as st\n",
        "import requests # we used that for stability  AI\n",
        "from io import BytesIO # it provides to move a picture from url to local on html.\n",
        "import base64 # We added it due to dependency on stability\n",
        "import os\n",
        "from dotenv import load_dotenv\n",
        "\n",
        "#load_dotenv()\n",
        "\n",
        "#my_key_openai = os.getenv(\"openai_apikey\")\n",
        "#my_key_stabilityai = os.getenv(\"stabilityai_apikey\")\n",
        "\n",
        "client = OpenAI(\n",
        "    api_key=\"----\"\n",
        ")\n",
        "\n",
        "my_key_stabilityai=\"---\"\n",
        "\n",
        "#DALL-E 3 Image Generation\n",
        "\n",
        "def generate_image(prompt):\n",
        "\n",
        "    AI_Response = client.images.generate(\n",
        "        model = \"dall-e-3\",\n",
        "        size = \"1024x1024\",\n",
        "        quality=\"hd\",\n",
        "        n=1,\n",
        "        response_format=\"url\",\n",
        "        prompt=prompt\n",
        "    )\n",
        "\n",
        "    image_url = AI_Response.data[0].url\n",
        "    revised_prompt = AI_Response.data[0].revised_prompt\n",
        "\n",
        "    response = requests.get(image_url) # we used get method for requests.\n",
        "    image_bytes = BytesIO(response.content)\n",
        "\n",
        "    return image_bytes, revised_prompt\n",
        "\n",
        "\n",
        "\n",
        "#DALL-E 3 Variation\n",
        "\n",
        "def create_image_variation(source_image_url):\n",
        "\n",
        "  AI_Response = client.images.create_variation(\n",
        "      image=open(source_image_url,\"rb\"), # we have to send a byte file. rb means read and binary.\n",
        "      size = \"1024x1024\",\n",
        "      n=1, # there are more than one variation but we just decided one variation.\n",
        "      response_format=\"url\"\n",
        "  )\n",
        "\n",
        "  generated_image_url = AI_Response.data[0].url\n",
        "\n",
        "  response = requests.get(generated_image_url) # it converts url to byte\n",
        "  image_bytes = BytesIO(response.content) #it saves response like byte format\n",
        "\n",
        "  return image_bytes\n",
        "\n",
        "\n",
        "\n",
        "#SD XL Image Generation (Open Source) stable difusion\n",
        "\n",
        "def generate_with_SD(prompt):\n",
        "  #there is no SDK so we should determine link.\n",
        "    url = \"https://api.stability.ai/v1/generation/stable-diffusion-xl-1024-v1-0/text-to-image\"\n",
        "  # we create http request because there is no SDK. http consists of url, headers and body.\n",
        "  # The header carries information about which application we want to access and whether we have authority to access this application.\n",
        "    headers = {\n",
        "        \"Accept\": \"application/json\",\n",
        "        \"Content-Type\": \"application/json\",\n",
        "        \"Authorization\": f\"Bearer {my_key_stabilityai}\",\n",
        "    }\n",
        "\n",
        "  #body carries data or the main request.\n",
        "    body = {\n",
        "        \"steps\": 40, # how many iterations, it determines quality of picture. when we increase steps, quality will increase.\n",
        "        \"width\": 1024,\n",
        "        \"height\": 1024,\n",
        "        \"seed\": 0,\n",
        "        \"cfg_scale\": 5, # determines how faithful it will be to the desired input as text. 0 and 1 provide to increase creativity of the model.\n",
        "        \"samples\": 1, # it is similar n or count. how many picture do you want to create? (max:4)\n",
        "        \"text_prompts\": [ # we can send more than one prompt.\n",
        "            {\n",
        "                \"text\": prompt,\n",
        "                \"weight\": 1 # it means that positive prompt.\n",
        "            },\n",
        "            {\n",
        "                \"text\": \"blurry, bad\",\n",
        "                \"weight\": -1 # it means that negative prompt.\n",
        "            }\n",
        "        ],\n",
        "    }\n",
        "\n",
        "    response = requests.post( # we used post method for requests.\n",
        "        url,\n",
        "        headers=headers,\n",
        "        json=body\n",
        "    )\n",
        "\n",
        "    data = response.json() # It holds the data contained in the json key.\n",
        "\n",
        "    return data\n",
        "\n",
        "\n",
        "\n",
        "tab_generate,tab_variation, tab_SD = st.tabs([\"Resim Üret\", \"Varyasyon Oluştur\", \"Stable Diffusion\"])\n",
        "\n",
        "with tab_generate:\n",
        "    st.subheader(\"DALL-E 3 ile Görsel Oluşturma\")\n",
        "    st.divider()\n",
        "    prompt = st.text_input(\"Oluşturmak istediğiniz görseli tarif ediniz\")\n",
        "    generate_btn = st.button(\"Oluştur\")\n",
        "\n",
        "    if generate_btn:\n",
        "        image_data, revised_prompt = generate_image(prompt)\n",
        "\n",
        "        st.image(image=image_data)\n",
        "        st.divider()\n",
        "        st.caption(revised_prompt)\n",
        "\n",
        "with tab_variation:\n",
        "    st.subheader(\"DALL-E 3 ile Görsel Varyasyonu Oluşturma\")\n",
        "    st.divider()\n",
        "    selected_file = st.file_uploader(\"PNG formatında bir görsel seçiniz\", type=[\"png\"])# type determines the format type.\n",
        "\n",
        "    if selected_file:\n",
        "        st.image(image=selected_file.name)# it shows our picture which we upload on webpage\n",
        "\n",
        "    variation_btn = st.button(\"Varyasyon Oluştur\")# we didn't use key because \"Oluştur\" and \"Varyasyon Oluştur\" are different.\n",
        "\n",
        "    if variation_btn:\n",
        "      image_data= create_image_variation(selected_file.name)\n",
        "\n",
        "      st.image(image=image_data)\n",
        "\n",
        "with tab_SD:\n",
        "  st.subheader(\"Stable Diffusion ile Görsel Oluşturma\")\n",
        "  st.divider()\n",
        "  SD_prompt = st.text_input(\"Oluşturmak istediğiniz görseli tarif ediniz\", key=\"sd_text_input\") # we used key because we used two prompt. If don't, it will be mistake.\n",
        "  SD_generate_btn = st.button(\"Oluştur\", key=\"sd_button\")\n",
        "\n",
        "  if SD_generate_btn:\n",
        "    data  = generate_with_SD(SD_prompt)\n",
        "\n",
        "    #output of generate_with_SD is complex not byte. To analyze output, we write the below code.\n",
        "    for image in data[\"artifacts\"]: # we loop knowledge of artifacts object\n",
        "        image_bytes = base64.b64decode(image[\"base64\"]) # it decodes encoder data.\n",
        "        st.image(image=image_bytes)\n",
        "\n",
        "\n",
        "\n"
      ],
      "metadata": {
        "colab": {
          "base_uri": "https://localhost:8080/"
        },
        "id": "iKHhiVUbl3P_",
        "outputId": "f86baa8b-17f4-4246-d896-b2c99feaff97"
      },
      "execution_count": 25,
      "outputs": [
        {
          "output_type": "stream",
          "name": "stdout",
          "text": [
            "Overwriting image_ops.py\n"
          ]
        }
      ]
    },
    {
      "cell_type": "code",
      "source": [
        "!npm install localtunnel\n",
        "!streamlit run /content/image_ops.py &>/content/logs.txt &\n",
        "!npx localtunnel --port 8501"
      ],
      "metadata": {
        "colab": {
          "base_uri": "https://localhost:8080/"
        },
        "id": "cfQegL1nq97u",
        "outputId": "26848515-e308-47ad-b424-32d45c34faa1"
      },
      "execution_count": 24,
      "outputs": [
        {
          "output_type": "stream",
          "name": "stdout",
          "text": [
            "\u001b[K\u001b[?25h\u001b[37;40mnpm\u001b[0m \u001b[0m\u001b[30;43mWARN\u001b[0m \u001b[0m\u001b[35msaveError\u001b[0m ENOENT: no such file or directory, open '/content/package.json'\n",
            "\u001b[0m\u001b[37;40mnpm\u001b[0m \u001b[0m\u001b[30;43mWARN\u001b[0m \u001b[0m\u001b[35menoent\u001b[0m ENOENT: no such file or directory, open '/content/package.json'\n",
            "\u001b[0m\u001b[37;40mnpm\u001b[0m \u001b[0m\u001b[30;43mWARN\u001b[0m\u001b[35m\u001b[0m content No description\n",
            "\u001b[0m\u001b[37;40mnpm\u001b[0m \u001b[0m\u001b[30;43mWARN\u001b[0m\u001b[35m\u001b[0m content No repository field.\n",
            "\u001b[0m\u001b[37;40mnpm\u001b[0m \u001b[0m\u001b[30;43mWARN\u001b[0m\u001b[35m\u001b[0m content No README data\n",
            "\u001b[0m\u001b[37;40mnpm\u001b[0m \u001b[0m\u001b[30;43mWARN\u001b[0m\u001b[35m\u001b[0m content No license field.\n",
            "\u001b[0m\n",
            "\u001b[K\u001b[?25h+ localtunnel@2.0.2\n",
            "updated 1 package and audited 36 packages in 0.598s\n",
            "\n",
            "3 packages are looking for funding\n",
            "  run `npm fund` for details\n",
            "\n",
            "found 2 \u001b[93mmoderate\u001b[0m severity vulnerabilities\n",
            "  run `npm audit fix` to fix them, or `npm audit` for details\n",
            "\u001b[K\u001b[?25hnpx: installed 22 in 2.23s\n",
            "your url is: https://nine-guests-drop.loca.lt\n",
            "^C\n"
          ]
        }
      ]
    }
  ]
}