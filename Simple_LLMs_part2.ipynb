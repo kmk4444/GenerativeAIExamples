{
  "nbformat": 4,
  "nbformat_minor": 0,
  "metadata": {
    "colab": {
      "provenance": [],
      "authorship_tag": "ABX9TyNmy1ngKhTzrPJ4WwJ/H8Rh",
      "include_colab_link": true
    },
    "kernelspec": {
      "name": "python3",
      "display_name": "Python 3"
    },
    "language_info": {
      "name": "python"
    }
  },
  "cells": [
    {
      "cell_type": "markdown",
      "metadata": {
        "id": "view-in-github",
        "colab_type": "text"
      },
      "source": [
        "<a href=\"https://colab.research.google.com/github/kmk4444/LLM/blob/main/Simple_LLMs_part2.ipynb\" target=\"_parent\"><img src=\"https://colab.research.google.com/assets/colab-badge.svg\" alt=\"Open In Colab\"/></a>"
      ]
    },
    {
      "cell_type": "markdown",
      "source": [
        "# **Chatbot - Part 2**"
      ],
      "metadata": {
        "id": "lAiMO1Ws7Ipa"
      }
    },
    {
      "cell_type": "markdown",
      "source": [
        "- We used https://replicate.com/ inference to use open source models.\n",
        "- There are two models which are Llama 2 by Meta AI and MISTRAL AI_ by Mixtral.\n",
        "- Mistral - 7B: It is appeared in 23 Septemtber 2023. There is a Mixture of Experts which provides to add router and expert layer inside of transformers blocks."
      ],
      "metadata": {
        "id": "IDNJELPFiczF"
      }
    },
    {
      "cell_type": "markdown",
      "source": [
        "**Requirements.txt**"
      ],
      "metadata": {
        "id": "r_nRkKzRh8v0"
      }
    },
    {
      "cell_type": "code",
      "source": [
        "!touch requirements.txt\n",
        "!echo python-dotenv >> requirements.txt\n",
        "!echo openai >> requirements.txt\n",
        "!echo streamlit >> requirements.txt\n",
        "!echo google-generativeai >> requirements.txt\n",
        "!echo anthropic >> requirements.txt\n",
        "!echo cohere >> requirements.txt\n",
        "!echo replicate >> requirements.txt\n"
      ],
      "metadata": {
        "id": "GbuRPZubiAX4"
      },
      "execution_count": 1,
      "outputs": []
    },
    {
      "cell_type": "markdown",
      "source": [
        "**terminal / bash command**"
      ],
      "metadata": {
        "id": "TsfSJ1bfiICb"
      }
    },
    {
      "cell_type": "code",
      "source": [
        "pip install -r requirements.txt"
      ],
      "metadata": {
        "id": "za4hNcFEiB1n"
      },
      "execution_count": null,
      "outputs": []
    },
    {
      "cell_type": "code",
      "source": [
        "import replicate\n",
        "from dotenv import load_dotenv\n",
        "load_dotenv()\n",
        "\n",
        "prompt= \"Mevsimler nasıl oluşur?\"\n",
        "system_prompt = \"Sen yardımsever bir asistansın.\"\n",
        "\n",
        "# get a token: https://replicate.com/account\n",
        "from getpass import getpass\n",
        "import os\n",
        "\n",
        "REPLICATE_API_TOKEN = getpass()\n",
        "os.environ[\"REPLICATE_API_TOKEN\"] = REPLICATE_API_TOKEN\n",
        "\n",
        "#Llama 2 70 B Chat\n",
        "\n",
        "AI_Response = replicate.run(\n",
        "    \"meta/llama-2-70b-chat:02e509c789964a7ea8736978a43525956ef40397be9033abf9fd2badfe68c9e3\", #Information of LLAMA 2\n",
        "    input = {\n",
        "        \"temperature\":0.5,\n",
        "        \"max_new_tokens\":256,\n",
        "        \"system_prompt\": system_prompt,\n",
        "        \"prompt\": prompt,\n",
        "        \"debug\": False\n",
        "    }\n",
        ")\n",
        "\n",
        "AI_Response = \"\".join(AI_Response)# We used this code because of arranging output of replicate.\n",
        "print(AI_Response)\n",
        "print(\"*\"*100)\n",
        "\n",
        "\n",
        "#\"mistralai/mixtral-8x7b means that there are eight 7B models. It provides to use small models together to reach solution.\n",
        "AI_Response = replicate.run(\n",
        "    \"mistralai/mixtral-8x7b-instruct-v0.1:7b3212fbaf88310cfef07a061ce94224e82efc8403c26fc67e8f6c065de51f21\",\n",
        "        input = {\n",
        "        \"temperature\":0.5,\n",
        "        \"max_new_tokens\":256,\n",
        "        \"prompt\": prompt,\n",
        "        \"debug\": False\n",
        "    }\n",
        ")\n",
        "\n",
        "AI_Response = \"\".join(AI_Response) # We used this code because of arranging output of replicate.\n",
        "print(AI_Response)\n",
        "\n"
      ],
      "metadata": {
        "id": "G7VCwuwhiOb7",
        "outputId": "6fc2c1ec-121d-4b27-b291-dfb94bb733a6",
        "colab": {
          "base_uri": "https://localhost:8080/"
        }
      },
      "execution_count": 7,
      "outputs": [
        {
          "output_type": "stream",
          "name": "stdout",
          "text": [
            "··········\n",
            " Mevsimler, planetlerin yükseliş vebatlandırıcı hareketleri sonucu oluşan, dengesiz ve atmosferik etkiler sunularak oluşan fenomenerdir. Mevsimler, genellikle 1-2 ay boyutunda olup, yaz, kış, spring, yay ve bayramlar içerir.\n",
            "\n",
            "Mevsimler oluşumunu sağlayan ilk nokta, planetlerin yükseliş ve batındırıcı hareketleridir. Bu hareketler, günümüzdeki klima koşullarına etkileyici bir şekilde katılımıştır. İnsanlık tarihinde, mevsimlerin oluşumu ve kalsması, çeşitli farklı kültürler ve civilizatörler tarafından değişik şekillerde kabul edilmiş\n",
            "****************************************************************************************************\n",
            "İklim ve mevsimler, dünyanın farklı bölgelerindeki hava durumlarını, sıcaklıklarını, yağış miktarlarını ve rüzgarlarını belirleyen birçok faktörün etkisiyle oluşur.\n",
            "\n",
            "1. Yer Düzeni: Dünya yer düzeni nedeniyle, yakın doğu ve batı yüzeyleri daha sıcak, kuzey ve güney yüzeyleri ise daha soğukdur. Bu, yakın doğu ve batı bölgelerde güneş ışının daha fazla yansımasına ve doğu ve batı yönünde giden rüzgarların sıcaklığını artırmasına neden olur.\n",
            "\n",
            "2. Güneş Yatağı: Gü\n"
          ]
        }
      ]
    }
  ]
}