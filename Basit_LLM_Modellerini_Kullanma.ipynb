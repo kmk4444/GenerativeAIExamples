{
  "nbformat": 4,
  "nbformat_minor": 0,
  "metadata": {
    "colab": {
      "provenance": [],
      "collapsed_sections": [
        "8nuw3W3MEGjY",
        "KeV6VfmfE9cD",
        "waGK7MnoHj0d",
        "k9FuX8WJQNNE",
        "2y1gOutzGFM5"
      ],
      "include_colab_link": true
    },
    "kernelspec": {
      "name": "python3",
      "display_name": "Python 3"
    },
    "language_info": {
      "name": "python"
    }
  },
  "cells": [
    {
      "cell_type": "markdown",
      "metadata": {
        "id": "view-in-github",
        "colab_type": "text"
      },
      "source": [
        "<a href=\"https://colab.research.google.com/github/kmk4444/LLM/blob/main/Basit_LLM_Modellerini_Kullanma.ipynb\" target=\"_parent\"><img src=\"https://colab.research.google.com/assets/colab-badge.svg\" alt=\"Open In Colab\"/></a>"
      ]
    },
    {
      "cell_type": "markdown",
      "source": [
        "# 1 Giriş ve Ortam Hazırlığı"
      ],
      "metadata": {
        "id": "wXJwbYHg_-xe"
      }
    },
    {
      "cell_type": "markdown",
      "source": [
        "## 1.1 Ön Hazırlık ve Gerekli Kütüphanelerin Yüklenmesi"
      ],
      "metadata": {
        "id": "z7HUhCL3APWc"
      }
    },
    {
      "cell_type": "markdown",
      "source": [
        "Aşağıda **versiyonları** ile verilen Python kütüphanelerini pip install ile yükleyebiliriz ya da içeriği, dosya bölümünde (ya da lokalimizdeki çalışma dizinimize) requirements.txt dosyası olarak kaydedip  `pip install -r requirements.txt` terminal komutu ile yükleyebiliriz.\n",
        "\n",
        "- **requirements.txt**\n",
        "```text\n",
        "openai==1.3.7\n",
        "langchain==0.0.345\n",
        "tiktoken==0.5.2\n",
        "cohere==4.37\n",
        "python-dotenv==1.0.0\n",
        "```\n",
        "python-dotenv sadece lokalimizde .env ortam değişkenleri (api key vb) kullanmak için gerekiyor. Yani Google Colab üzerinden çalışacağımız zaman python-dotenv kütüphanesine ihtiyacımız yok.\n",
        "\n",
        "> Google Colab ile ilgili tutorialı [izlemek için tıklayın](https://youtu.be/hzc5mdh7TOI?si=cRXC_sqI1x7GlHVH)\n",
        "\n",
        "- **terminal / bash komutu**\n",
        "```bash\n",
        "pip install -r requirements.txt\n",
        "```\n"
      ],
      "metadata": {
        "id": "IUsnAneYAU-G"
      }
    },
    {
      "cell_type": "markdown",
      "source": [
        "- Terminal Üzerinden requirements.txt dosyasını oluşturuyoruz (copy paste de yapabiliriz.)"
      ],
      "metadata": {
        "id": "fY4m5BJhCj0N"
      }
    },
    {
      "cell_type": "code",
      "source": [
        "!touch requirements.txt\n",
        "!echo 'openai==1.3.7' >> requirements.txt\n",
        "!echo 'langchain==0.0.345' >> requirements.txt\n",
        "!echo 'cohere==4.37' >> requirements.txt\n",
        "!echo 'tiktoken==0.5.2' >> requirements.txt"
      ],
      "metadata": {
        "id": "0v0p5mN-BLFJ"
      },
      "execution_count": null,
      "outputs": []
    },
    {
      "cell_type": "markdown",
      "source": [
        "- requirements.txt dosyası içeriğindeki paketleri runtime'ımıza yüklüyoruz"
      ],
      "metadata": {
        "id": "9rs9gVvdD6J4"
      }
    },
    {
      "cell_type": "code",
      "source": [
        "!pip install -r requirements.txt -q"
      ],
      "metadata": {
        "id": "xefJvXmPAUGr"
      },
      "execution_count": null,
      "outputs": []
    },
    {
      "cell_type": "markdown",
      "source": [
        "## 1.2 Paketlerimizi ve yüklemelerimizi kontrol edelim."
      ],
      "metadata": {
        "id": "8nuw3W3MEGjY"
      }
    },
    {
      "cell_type": "code",
      "source": [
        "!pip show langchainXYY"
      ],
      "metadata": {
        "id": "B4FMAaNWEpTX"
      },
      "execution_count": null,
      "outputs": []
    },
    {
      "cell_type": "code",
      "source": [
        "import openai, langchain"
      ],
      "metadata": {
        "id": "C2yE7JE5C5I2"
      },
      "execution_count": null,
      "outputs": []
    },
    {
      "cell_type": "code",
      "source": [
        "print(openai.__version__)\n",
        "print(langchain.__version__)"
      ],
      "metadata": {
        "id": "mSxMBHtbC6YM",
        "colab": {
          "base_uri": "https://localhost:8080/"
        },
        "outputId": "3adcff8f-d6ce-4e52-9fdb-b62fb4bf238b"
      },
      "execution_count": null,
      "outputs": [
        {
          "output_type": "stream",
          "name": "stdout",
          "text": [
            "1.3.7\n",
            "0.0.345\n"
          ]
        }
      ]
    },
    {
      "cell_type": "code",
      "source": [
        "%%html\n",
        "<marquee style='width: 50%; color: Green;'>Tebrikler, buraya kadar hatasız geldiyseniz, oldu bu iş... gerisi kodlama!</marquee>"
      ],
      "metadata": {
        "id": "9u1A4Tt9Osqg"
      },
      "execution_count": null,
      "outputs": []
    },
    {
      "cell_type": "code",
      "source": [
        "!pip freeze"
      ],
      "metadata": {
        "id": "E-irt_Q26EJa"
      },
      "execution_count": null,
      "outputs": []
    },
    {
      "cell_type": "code",
      "source": [
        "!pip freeze > requirements.txt"
      ],
      "metadata": {
        "id": "aE-KWpVovVH6"
      },
      "execution_count": null,
      "outputs": []
    },
    {
      "cell_type": "code",
      "source": [
        "%history"
      ],
      "metadata": {
        "id": "esuDqJR76Rkp"
      },
      "execution_count": null,
      "outputs": []
    },
    {
      "cell_type": "markdown",
      "source": [
        "## 1.3 Open AI API Key'imizi alma ve gizli anahtarlar bölümüne kaydetme"
      ],
      "metadata": {
        "id": "KeV6VfmfE9cD"
      }
    },
    {
      "cell_type": "markdown",
      "source": [
        "Öncelikle OpenAI'ın web sitesinde kayıt olmamız ve bir API key oluşturmamız gerekiyor. Tabii ki bunun içinde geçerli bir hesabınız olması gerekiyor. Colab notebook'u kullandığınız gmail adresi ile çok hızlı bir şekilde login / signup yapabilirsiniz.\n",
        "\n",
        "> ::ÇOK ÖNEMLİ:: OpenAI API'ı ile yapacağımız tüm işlemler ücretli olacak. Dolayısıyla emin olmadığınz hareketlerden şimdilik kaçınmanız çok rasyonel olur. Zamanla zaten bu konularda da hakimiyet kazanacaksınız\n",
        "\n",
        "- OpenAI Giriş Sayfası: [link](https://openai.com/)\n",
        "- OpenAI Ürünleri Anasayfa: [link](https://openai.com/product)\n",
        "- OpenAI Ücretlendirmeleri: [link](https://openai.com/pricing)\n",
        "- OpenAI Tokenizer (Tokenların maliyetini hesaplama): [link](https://platform.openai.com/tokenizer)\n",
        "- OpenAI Dokümantasyonu: [link](https://platform.openai.com/docs/introduction)"
      ],
      "metadata": {
        "id": "dYK8fq1HFPp5"
      }
    },
    {
      "cell_type": "markdown",
      "source": [
        "### 1.3.1 Google Colab'de API Anahtarımızı Kaydetme"
      ],
      "metadata": {
        "id": "Rgz3YSrVJ7co"
      }
    },
    {
      "cell_type": "markdown",
      "source": [
        "\n",
        "Yapmamız gereken tek şey ekranın sol tarafındaki panelde, anahtar işaretini tıklamak ve Ad kısmına OPENAI_APIKEY, değer kısmına da API keyimizin kendisini yazmamız; ve aşağıdaki kod ile bu  api anahtarını bir değişken içerisine kaydetmemiz.\n",
        "\n",
        "Aşağıdaki kodu çalıştırdığımızda bizden erişim izni isteyecek (tabii ki anahtarlar kısmında erişim vermediysek)\n",
        "\n",
        "```python\n",
        "from google.colab import userdata\n",
        "\n",
        "OPENAI_APIKEY = userdata.get('secretName')\n",
        "\n",
        "```\n"
      ],
      "metadata": {
        "id": "MUwXWGnQHPW1"
      }
    },
    {
      "cell_type": "code",
      "source": [
        "from google.colab import userdata\n",
        "openai_apikey = userdata.get('OPENAI_APIKEY')"
      ],
      "metadata": {
        "id": "SyAreFxdLB3H"
      },
      "execution_count": null,
      "outputs": []
    },
    {
      "cell_type": "code",
      "source": [
        "openai_apikey"
      ],
      "metadata": {
        "id": "j4sleegwLfDj"
      },
      "execution_count": null,
      "outputs": []
    },
    {
      "cell_type": "markdown",
      "source": [
        "### 1.3.2 Lokalimizde nasıl yapacağız?"
      ],
      "metadata": {
        "id": "waGK7MnoHj0d"
      }
    },
    {
      "cell_type": "markdown",
      "source": [
        "Lokalimizde çalışma dizinimizde .env isimli bir dosya oluşturup içeriğine aşağıdaki şekilde api key'imizi yazamamız lazım\n",
        "\n",
        "- .env içeriği\n",
        "```text\n",
        "OPENAI_APIKEY='sk-APIANAHTARIMIZBURADA OLACAK'\n",
        "```\n",
        "\n",
        "\n",
        "- Python ile api anahtarımıza ulşma: Daha sonra, kod editörümüzde ya da jupyter notebook'umuz aşağıdaki kod snippetini çalıştırmamız lazım\n",
        "\n",
        "```python\n",
        "from dotenv import load_dotenv, find_dotenv #pip install python-dotenv\n",
        "import os\n",
        "load_dotenv(find_dotenv(), override=True)\n",
        "\n",
        "OPENAI_APIKEY = os.environ.get('OPENAI_APIKEY', 'bulunamaz_default_değer')\n",
        "# ya da default bir değer olmadan\n",
        "OPENAI_APIKEY = os.environ.get('OPENAI_APIKEY')\n",
        "```\n"
      ],
      "metadata": {
        "id": "LgRLfMSZHzpr"
      }
    },
    {
      "cell_type": "code",
      "source": [],
      "metadata": {
        "id": "bVjdhk_lGwIp"
      },
      "execution_count": null,
      "outputs": []
    },
    {
      "cell_type": "markdown",
      "source": [
        "###  1.3.3 Colab Magiclerle Nasıl Yapabiliriz"
      ],
      "metadata": {
        "id": "k9FuX8WJQNNE"
      }
    },
    {
      "cell_type": "markdown",
      "source": [
        "Hücrelerimizde colab magic komutlarını başına '%' işareti getirerek kullanabiliyoruz.\n",
        "\n",
        "Örnek:\n",
        "```python\n",
        "%env OPENAI_APIKEY='asdfasdfasdfasfdasdf'\n",
        "import os\n",
        "sample_key = os.environ.get('OPENAI_APIKEY')\n",
        "```"
      ],
      "metadata": {
        "id": "SF8OBmjeRFMx"
      }
    },
    {
      "cell_type": "markdown",
      "source": [
        "Tüm magic listesini görmek için sadece hücreye %magic yazın ve çalıştırın"
      ],
      "metadata": {
        "id": "0O4PgRANQ-Nk"
      }
    },
    {
      "cell_type": "markdown",
      "source": [
        "---"
      ],
      "metadata": {
        "id": "ALo5li1BKQ1Z"
      }
    },
    {
      "cell_type": "markdown",
      "source": [
        "# 2 Basit LLM Modelleri ile Çalışma"
      ],
      "metadata": {
        "id": "f1LGpyf-KLUx"
      }
    },
    {
      "cell_type": "markdown",
      "source": [
        "> Tabii ki eğer ara verip notebook'umuzu tekrar başlattıysak ilgili importlarımızı yapmayı unutmuyoruz.\n",
        "\n",
        "LangChain, çeşitli türde modellerle çalışabilme yeteneğine sahiptir. Bu bölümde, üç temel model türünü ele alacağız:\n",
        "1. Basit LLM,\n",
        "2. Chat (Sohbet )\n",
        "3. Embedding (Gömme) modelleri\n",
        "\n",
        "Neden langchain kullanalım ki, zaten bunları mevcut model sağlayıcılar (OpenAI vb.) ile de yapabiliyoruz, hocam iş çıkarma başımıza diyenler için  [ilgili video ve cevap](https://youtu.be/x7RkjTwkZ5Y?si=mRZAU73Li3rB0GvQ)"
      ],
      "metadata": {
        "id": "uW7A2zdGKYU6"
      }
    },
    {
      "cell_type": "markdown",
      "source": [
        "## 2.1 Basit LLM'ler\n",
        "Bir text girdisi gönderip, bir text çıktısı almak. Buradaki basit kelimesi hiç birimizi yanıltmasın; çünkü, prompt'unuz (yani isteminiz) ne kadar kuvvetliyse, basit modeliniz bile o derece kuvvetlidir.\n",
        "\n",
        "Ayrıca, bir diğer önemli konu, artık hem Google Cloud, hem de OpenAI tarafında kendi modellerimizi eğitim \"fine tune\" edebilmemiz. Bu ne demek oluyor? Çok basit, eğer siz hazır bir modeli alırsanız ve belli prompt ve cevaplarla eğitirseniz, göndereceğiniz bir kaç kelimelik promptlar ile bile çok güçlü yanıtlar alabilirsiniz. O yüzden ne diyoruz:\n",
        "\n",
        "> Basit Model yoktur, kötü prompt vardır.\n",
        "\n",
        "İlerleyen derslerimizde zaten, bu konuyu çoook derinlemesine irdeleyeceğiz ✊\n",
        "\n",
        "Bakmak isteyenler için mevcut openai modellerine [bu bağlantıdan erişilebilir](https://platform.openai.com/docs/models/gpt-3-5)"
      ],
      "metadata": {
        "id": "5U_i7tJsKeVt"
      }
    },
    {
      "cell_type": "code",
      "source": [
        "from google.colab import userdata\n",
        "from langchain.llms.openai import OpenAI\n",
        "from pprint import pprint\n",
        "\n",
        "\n",
        "OPENAI_APIKEY = userdata.get('OPENAI_APIKEY')\n",
        "\n",
        "llm = OpenAI(\n",
        "    api_key=OPENAI_APIKEY,\n",
        "    model='text-davinci-003',\n",
        "    temperature=0.7,\n",
        "    max_tokens=1024,\n",
        "    max_retries=2\n",
        ")\n",
        "print(llm)\n",
        "### İlgili Colab Magicleri\n",
        "# %pdoc OpenAI\n",
        "# %pfile OpenAI\n",
        "# %pinfo llm\n"
      ],
      "metadata": {
        "id": "LJ-ie9dMKOWq",
        "colab": {
          "base_uri": "https://localhost:8080/"
        },
        "outputId": "5f0c200b-7013-47f0-f75b-9cbb91ea485a"
      },
      "execution_count": null,
      "outputs": [
        {
          "output_type": "stream",
          "name": "stdout",
          "text": [
            "\u001b[1mOpenAI\u001b[0m\n",
            "Params: {'model_name': 'text-davinci-003', 'temperature': 0.7, 'top_p': 1, 'frequency_penalty': 0, 'presence_penalty': 0, 'n': 1, 'logit_bias': {}, 'max_tokens': 1024}\n"
          ]
        }
      ]
    },
    {
      "cell_type": "markdown",
      "source": [
        "#### Bu çıktı Bize ne ifade ediyor?\n"
      ],
      "metadata": {
        "id": "2cmlWSIzM16m"
      }
    },
    {
      "cell_type": "markdown",
      "source": [
        "Yukarıdaki kodun çıktısı aşağıdakine bezer birşeyler olacak\n",
        "```json\n",
        "Params:\n",
        "  {\n",
        "    'model_name': 'text-davinci-003',\n",
        "    'temperature': 0.7,\n",
        "    'top_p': 1,\n",
        "    'frequency_penalty': 0,\n",
        "    'presence_penalty': 0,\n",
        "    'n': 1,\n",
        "    'logit_bias': {},\n",
        "    'max_tokens': 512\n",
        "    }\n",
        "```\n",
        "\n",
        "Her bir parametreyi açıklayalım:\n",
        "\n",
        "1. **`api_key`**: Bu, OpenAI API'sine erişmek için kullanılan özel anahtardır. `os.environ.get` fonksiyonu, bu anahtarı ortam değişkenlerinden alır. Eğer bulunamazsa 'NotFound' olarak ayarlanır.\n",
        "\n",
        "2. **`model`**: Burada `'text-davinci-003'` belirtilmiştir. Bu, OpenAI tarafından sağlanan GPT-3 modelinin bir versiyonunu ifade eder. Bu model, çeşitli dil işleme görevleri için kullanılır ve oldukça genel amaçlıdır. Mevcut openai modellerine [bu bağlantıdan erişilebilir](https://platform.openai.com/docs/models/gpt-3-5)\n",
        "\n",
        "3. **`temperature`**: Bu değer, modelin ürettiği cevapların özgünlük derecesini belirler. `0.7` değeri, orta derecede özgün yanıtlar üretilmesini sağlar. Düşük bir sıcaklık değeri daha tahmin edilebilir ve tutarlı cevaplar üretirken, yüksek bir değer daha yaratıcı ve beklenmedik yanıtlara yol açar.\n",
        "\n",
        "4. **`max_tokens`**: Bu, modelin üretebileceği maksimum token (kelime veya kelime parçaları) sayısını belirtir. `512` değeri, modelin bir seferde en fazla 512 token üretebileceği anlamına gelir. Bu, cevap uzunluğunu sınırlar.\n",
        "\n",
        "5. **`max_retries`**: Bu, bir isteğin başarısız olması durumunda maksimum yeniden deneme sayısını belirtir. `5` olarak ayarlanmış, bu da isteğin başarısız olması durumunda en fazla 5 kez yeniden denenmesi gerektiği anlamına gelir.\n",
        "\n",
        "6. **`top_p`**: Bu, modelin cevap üretirken dikkate alacağı olası sonraki tokenlerin yüzdesini belirler. `1` olarak ayarlandığında, model, bir sonraki tokeni seçerken tüm olası tokenleri dikkate alır.\n",
        "\n",
        "7. **`frequency_penalty`** ve **`presence_penalty`**: Bu iki parametre, modelin cevapları üretirken belirli kelimeleri tekrarlamasını engellemeye yardımcı olur. Her ikisi de `0` olarak ayarlanmıştır, bu da cevaplarda herhangi bir kelime tekrarlama veya varlık cezasının uygulanmayacağı anlamına gelir.\n",
        "\n",
        "8. **`n`**: Bu, modelin bir seferde üreteceği cevap sayısını belirtir. `1` olarak ayarlanmış, bu da her istekte modelin tek bir cevap üreteceği anlamına gelir.\n",
        "\n",
        "9. **`logit_bias`**: Bu, belirli tokenlerin olasılığını artırmak veya azaltmak için kullanılabilir. Boş bir sözlük `{}` olarak ayarlanmış, bu da herhangi bir önyargı uygulanmayacağı anlamına gelir.\n",
        "\n",
        "Bu parametreler, OpenAI'nin GPT-3 modelini kullanarak daha kontrollü ve özelleştirilmiş cevaplar üretmek için kullanılır.\n",
        "\n"
      ],
      "metadata": {
        "id": "nLY74WWjMfZm"
      }
    },
    {
      "cell_type": "markdown",
      "source": [
        "### 2.1.2 Basit bir sorgu atalım"
      ],
      "metadata": {
        "id": "Y9pSjDByNaq9"
      }
    },
    {
      "cell_type": "markdown",
      "source": [
        "Karşılaşabileceğiniz Hatalar ile ilgili Uyarılar:\n",
        "\n",
        "- API anahatarınız doğru değilse, ya da ulaşılamıyorsa: AuthenticationError: Error code: 401\n",
        "- Tanımlı ücretsiz kredi kullanıyorsanız ya da çok fazla istekte bulunduysanız: RateLimitError ve bir mesaj alırsınız:  You exceeded your current quota, please check your plan and billing details."
      ],
      "metadata": {
        "id": "bsQYLI9lReMF"
      }
    },
    {
      "cell_type": "code",
      "source": [
        "# LLMizi başlatalım\n",
        "from google.colab import userdata\n",
        "from langchain.llms.openai import OpenAI\n",
        "from pprint import pprint\n",
        "\n",
        "\n",
        "OPENAI_APIKEY = userdata.get('OPENAI_APIKEY')\n",
        "\n",
        "llm = OpenAI(\n",
        "    api_key=OPENAI_APIKEY,\n",
        "    model='text-davinci-003',\n",
        "    temperature=0.7,\n",
        "    max_tokens=2048,\n",
        "    max_retries=2\n",
        ")"
      ],
      "metadata": {
        "id": "3jJz6xc9BwM9"
      },
      "execution_count": null,
      "outputs": []
    },
    {
      "cell_type": "code",
      "source": [
        "soru = \"\"\"\n",
        "İklim değişikliği hakkında bilgi verir misin?\n",
        "\"\"\"\n",
        "cevap = llm(soru)\n",
        "%pycat cevap"
      ],
      "metadata": {
        "id": "48tgWXS1avDq"
      },
      "execution_count": null,
      "outputs": []
    },
    {
      "cell_type": "code",
      "source": [
        "soru = \"\"\"\n",
        "Sen bir akademisyen ve çok iyi bir iklim bilimcisin, iklim değişikliği hakkında bilgi verir misin?\n",
        "\"\"\"\n",
        "cevap = llm(soru)\n",
        "%pycat cevap"
      ],
      "metadata": {
        "id": "hjkbvIzLuvZL"
      },
      "execution_count": null,
      "outputs": []
    },
    {
      "cell_type": "markdown",
      "source": [
        "#### Peki kaç token gitti?"
      ],
      "metadata": {
        "id": "k5EkWs8TcckA"
      }
    },
    {
      "cell_type": "code",
      "source": [
        "llm.get_num_tokens(soru)"
      ],
      "metadata": {
        "colab": {
          "base_uri": "https://localhost:8080/"
        },
        "id": "_npC3cx5b5KM",
        "outputId": "53a1b615-0931-4841-ade6-f0411f888edb"
      },
      "execution_count": null,
      "outputs": [
        {
          "output_type": "execute_result",
          "data": {
            "text/plain": [
              "25"
            ]
          },
          "metadata": {},
          "execution_count": 50
        }
      ]
    },
    {
      "cell_type": "markdown",
      "source": [
        "### 2.1.2 Birden fazla sorgu içeriği"
      ],
      "metadata": {
        "id": "twbzwpaOc3wp"
      }
    },
    {
      "cell_type": "code",
      "source": [
        "output = llm.generate(\n",
        "    [\n",
        "        \"... Türkiye'nin başkentidir\",\n",
        "        \"Pi sayısı kaçtır?\",\n",
        "        \"'Hadi oradan lan?' cümlesinin ingilizce karşılığı nedir?\"\n",
        "      ]\n",
        ")"
      ],
      "metadata": {
        "id": "HhV71weBb5NK"
      },
      "execution_count": null,
      "outputs": []
    },
    {
      "cell_type": "code",
      "source": [
        "output"
      ],
      "metadata": {
        "colab": {
          "base_uri": "https://localhost:8080/"
        },
        "id": "ePGsoHY2b5Pk",
        "outputId": "f60fb96c-9774-4aac-c90c-b146cde9ebb0"
      },
      "execution_count": null,
      "outputs": [
        {
          "output_type": "execute_result",
          "data": {
            "text/plain": [
              "LLMResult(generations=[[Generation(text=' Ankara.\\n\\nAnkara is the capital of Turkey.', generation_info={'finish_reason': 'stop', 'logprobs': None})], [Generation(text=\"\\n\\nPi sayısı 3.1415926535897932384626433832795'dir.\", generation_info={'finish_reason': 'stop', 'logprobs': None})], [Generation(text='\\n\\n\"Did he leave from there?\"', generation_info={'finish_reason': 'stop', 'logprobs': None})]], llm_output={'token_usage': {'completion_tokens': 47, 'prompt_tokens': 53, 'total_tokens': 100}, 'model_name': 'text-davinci-003'}, run=[RunInfo(run_id=UUID('63f22ed9-a063-4c02-a2f8-4009f056b07b')), RunInfo(run_id=UUID('733a645c-bfbb-4756-a22b-dc7db9adfc1c')), RunInfo(run_id=UUID('339966c5-a9bc-405a-b0ca-535ef93bcad8'))])"
            ]
          },
          "metadata": {},
          "execution_count": 53
        }
      ]
    },
    {
      "cell_type": "code",
      "source": [
        "output.generations[-1][0].text"
      ],
      "metadata": {
        "colab": {
          "base_uri": "https://localhost:8080/",
          "height": 35
        },
        "id": "FU4sV_eib5SC",
        "outputId": "1862fae8-5186-4ab3-adbb-8d2a3cd8f1bd"
      },
      "execution_count": null,
      "outputs": [
        {
          "output_type": "execute_result",
          "data": {
            "text/plain": [
              "'\\n\\n\"Did he leave from there?\"'"
            ],
            "application/vnd.google.colaboratory.intrinsic+json": {
              "type": "string"
            }
          },
          "metadata": {},
          "execution_count": 58
        }
      ]
    },
    {
      "cell_type": "code",
      "source": [
        "for i in output.generations:\n",
        "  print(i[0].text)"
      ],
      "metadata": {
        "colab": {
          "base_uri": "https://localhost:8080/"
        },
        "id": "b-tTkPmmb5Uv",
        "outputId": "0264f3fe-7ad6-4b3a-aa08-0c2af9ffb55d"
      },
      "execution_count": null,
      "outputs": [
        {
          "output_type": "stream",
          "name": "stdout",
          "text": [
            " Ankara.\n",
            "\n",
            "Ankara is the capital of Turkey.\n",
            "\n",
            "\n",
            "Pi sayısı 3.1415926535897932384626433832795'dir.\n",
            "\n",
            "\n",
            "\"Did he leave from there?\"\n"
          ]
        }
      ]
    },
    {
      "cell_type": "code",
      "source": [
        "output_multiple  = llm.generate(['Langchain youtube videosu için isim önerisi'] * 3)\n",
        "print(len(output_multiple.generations))"
      ],
      "metadata": {
        "colab": {
          "base_uri": "https://localhost:8080/"
        },
        "id": "O6XPoSTIb5b4",
        "outputId": "61dae2a0-3ede-458f-e75d-c66fcdd55ec7"
      },
      "execution_count": null,
      "outputs": [
        {
          "output_type": "stream",
          "name": "stdout",
          "text": [
            "3\n"
          ]
        }
      ]
    },
    {
      "cell_type": "code",
      "source": [
        "for i in output_multiple.generations:\n",
        "  print(i[0].text)"
      ],
      "metadata": {
        "colab": {
          "base_uri": "https://localhost:8080/"
        },
        "id": "0cQttiYTdkNp",
        "outputId": "78bc533c-7ad7-436e-cf7c-d6b74f584503"
      },
      "execution_count": null,
      "outputs": [
        {
          "output_type": "stream",
          "name": "stdout",
          "text": [
            "\n",
            "\n",
            "Langchain: Dili Değiştir, Dünyayı Dönüştür.\n",
            "\n",
            "\n",
            "Eylem İçin Blockchain: Bir Kılavuz\n",
            "\n",
            "\n",
            "\"Langchain: Dil Öğrenmeyi Kolaylaştıran Sistem\"\n"
          ]
        }
      ]
    },
    {
      "cell_type": "code",
      "source": [],
      "metadata": {
        "id": "jsv32xY3dkSs"
      },
      "execution_count": null,
      "outputs": []
    },
    {
      "cell_type": "markdown",
      "source": [
        "## 2.2 Chat Modelleri  GPT-3.5-Turbo and GPT-4\n",
        "\n",
        "> Burada biraz karmaşık konulara girmeye başlıyoruz, ancak OpenAI sitesinde \"Playground\" bölümünde yaptığımız çalışma ve video buradaki tüm soru işaretlerinizi giderecek\". Mutlaka izleyin: izlemek için [bu linki tıklayın](https://youtube.com).\n",
        "\n",
        "\n",
        "> **Don't worry! Be Happy, you are with me***\n",
        "\n",
        "Sohbet modelleri, girdi olarak bir mesaj listesi alır ve çıktı olarak model tarafından üretilmiş bir mesaj döndürür. Sohbet formatı, çok turlu konuşmaları kolaylaştırmak için tasarlanmış olsa da, herhangi bir konuşma olmadan tek turda gerçekleşen görevler için de oldukça yararlıdır.\n",
        "\n",
        "\n"
      ],
      "metadata": {
        "id": "2y1gOutzGFM5"
      }
    },
    {
      "cell_type": "markdown",
      "source": [
        "Bir örnek Chat Completions API çağrısı şu şekilde görünür:\n",
        "\n",
        "```python\n",
        "from openai import OpenAI\n",
        "client = OpenAI()\n",
        "\n",
        "response = client.chat.completions.create(\n",
        "  model=\"gpt-3.5-turbo\",\n",
        "  messages=[\n",
        "    {\"role\": \"system\", \"content\": \"You are a helpful assistant.\"},\n",
        "    {\"role\": \"user\", \"content\": \"Who won the world series in 2020?\"},\n",
        "    {\"role\": \"assistant\", \"content\": \"The Los Angeles Dodgers won the World Series in 2020.\"},\n",
        "    {\"role\": \"user\", \"content\": \"Where was it played?\"}\n",
        "  ]\n",
        ")\n",
        "```\n",
        "\n",
        "The system asistanımızın yani modelimizin davranışını vereceği sonuçları belirlediğimiz kısım.\n",
        "- System rolü, asistanın davranışını belirler.\n",
        "- User rolü, bizim cevabını aradığımız soru\n",
        "- Assistant rolü, LLM'in bize gönderdiği cevap\n",
        "\n",
        "link = https://platform.openai.com/docs/guides/text-generation/chat-completions-api"
      ],
      "metadata": {
        "id": "vzKLdc57GgOB"
      }
    },
    {
      "cell_type": "code",
      "source": [
        "from google.colab import userdata\n",
        "from langchain.schema import (\n",
        "    AIMessage,  # Asistan mesajı yani cevap\n",
        "    HumanMessage, # Bizim mesajımız / sorumuz\n",
        "    SystemMessage, # Sistem mesajı yani  asistanın davranışını belirleyen mesaj\n",
        ")\n",
        "from langchain.chat_models import ChatOpenAI\n",
        "\n",
        "\n",
        "try:\n",
        "  openai_apikey = userdata.get('OPENAI_APIKEY')\n",
        "  print('OpenAI anahtarın buldum hacım..')\n",
        "except Exception as e :\n",
        "  print('Anahtarı bulamadım hacı.')\n",
        "  print(str(e))"
      ],
      "metadata": {
        "colab": {
          "base_uri": "https://localhost:8080/"
        },
        "id": "duxgNQJN48h_",
        "outputId": "00cb4971-68b6-4152-b341-0364df993473"
      },
      "execution_count": null,
      "outputs": [
        {
          "output_type": "stream",
          "name": "stdout",
          "text": [
            "OpenAI anahtarın buldum hacım..\n"
          ]
        }
      ]
    },
    {
      "cell_type": "code",
      "source": [
        "chat = ChatOpenAI(\n",
        "    api_key=openai_apikey,\n",
        "    model='gpt-3.5-turbo',\n",
        "    temperature=0.5,\n",
        "    max_tokens=1024,\n",
        "    max_retries=3\n",
        ")\n",
        "\n",
        "messages = [\n",
        "    SystemMessage(content='Sen Fizik alanında nobel ödülü almış bir bilim adamısın'),\n",
        "    HumanMessage(content='Kuantum dolanıklığını tek bir cümle ile açıkla'),\n",
        "]\n",
        "output = chat(messages = messages)\n",
        "print(output)\n",
        "%pycat output.content"
      ],
      "metadata": {
        "id": "B6KQDbcI50it"
      },
      "execution_count": null,
      "outputs": []
    },
    {
      "cell_type": "code",
      "source": [
        "messages_second = [\n",
        "    SystemMessage(content=\"\"\"\n",
        "    Sen çok iyi bir astrofizikçi, uzay bilimci ve akademisyensin. Sana sorulan kendi alanında (astrofizik ve uzay bilimi) soruları cevaplayacak,\n",
        "          bilmediğin ve alanına girmeyen soruları cevaplamayacaksın (kibarca sebebini söyle).\n",
        "    \"\"\"),\n",
        "    HumanMessage(content='Bana kurufasulyenin en iyi tarifini verir misin?')\n",
        "]\n",
        "output = chat(messages_second)\n",
        "%pycat output.content"
      ],
      "metadata": {
        "id": "jxvBzu1X9pv5"
      },
      "execution_count": null,
      "outputs": []
    },
    {
      "cell_type": "markdown",
      "source": [
        "#### JSON çıktısı alıp işlem yapma"
      ],
      "metadata": {
        "id": "f0XSVJDl-au2"
      }
    },
    {
      "cell_type": "code",
      "source": [
        "system_msg = \"\"\"\n",
        "Sen dünyanın en geniş ve güçlü internet arama makinesisin ve kesinlikle yalancı değilsin. Sana sorulan konularda örnek siteleri aşağıdaki json formatına uygun olarak json formatında cevaplayacaksın. \"alaka_duzeyi\" alanı sonucunu getirdiğin sitenin yapılan sorguyla ile alakasının 10 ile 1 arasında değerlendirmesidir. 1 en alakasız, 10 en alakalı şeklinde, bu değer tekrar edebilir. Sorgular yarım olsa bile en yakın anlamdaki siteleri getir. \"kısa_aciklama\" alanı 216 karakteri geçmeyecek şekilde, ilgili internet sitesinin açıklaması olacak.\n",
        "\n",
        "{\n",
        "    \"sonuc_sayisi\": \"bulunan sonuc sayılarını buraya yaz\",\n",
        "    \"yorum\": \"buraya kendi kısa yorumunu yazacaksın\",\n",
        "    \"sonuclar\": [\n",
        "        {\n",
        "            \"alaka_duzeyi\": 10,\n",
        "            \"diller\": [\"Türkçe\", \"Çok dilli\"],\n",
        "            \"kisa_aciklama\": \"Bu sitede internet araması yapılabilir\",\n",
        "            \"adres\": \"https://www.google.com\"\n",
        "        },\n",
        "        {\n",
        "            \"alaka_duzeyi\": 10,\n",
        "            \"diller\": [\"İngilizce\"],\n",
        "            \"kisa_aciklama\": \"Bu sitede fizik problemlerinin formülasyonunu ve çözümlerini bulabilirsiniz.\",\n",
        "            \"adres\": \"https://www.physicsforums.com\"\n",
        "        },\n",
        "        {\n",
        "            \"alaka_duzeyi\": 5,\n",
        "            \"diller\": [\"Türkçe\", \"Çok dilli\"],\n",
        "            \"kisa_aciklama\": \"bu sitede video izlenebilir\",\n",
        "            \"adres\": \"https://www.youtube.com\"\n",
        "        },\n",
        "    ],\n",
        "}\n",
        "----\n",
        "----\n",
        "bilmediğin konularda aşağıdaki gibi bir json sonucu vereceksin:\n",
        "\n",
        "{\n",
        "\"sonuc_sayisi\": 0,\n",
        "\"Sebep\": \"Aranan kriterde site bulunamadı. Bunu daha iyi anlatabilirsin\"\n",
        "}\n",
        "\"\"\"\n",
        "\n",
        "messages = [\n",
        "    SystemMessage(content= system_msg ),\n",
        "    HumanMessage(content='Alkolsüz kokteyl tarifleri alabileceğim internet siteleri?')\n",
        "]\n",
        "output = chat(messages = messages)"
      ],
      "metadata": {
        "id": "gfd8kEpy-d_h"
      },
      "execution_count": null,
      "outputs": []
    },
    {
      "cell_type": "code",
      "source": [
        "%pycat output.content"
      ],
      "metadata": {
        "id": "uizh-s7t_W45"
      },
      "execution_count": null,
      "outputs": []
    },
    {
      "cell_type": "code",
      "source": [
        "type(output.content)"
      ],
      "metadata": {
        "colab": {
          "base_uri": "https://localhost:8080/"
        },
        "id": "EV8SWHRJ_ebk",
        "outputId": "c1f5b4f8-45fd-409c-fe86-46aba2b53474"
      },
      "execution_count": null,
      "outputs": [
        {
          "output_type": "execute_result",
          "data": {
            "text/plain": [
              "str"
            ]
          },
          "metadata": {},
          "execution_count": 80
        }
      ]
    },
    {
      "cell_type": "code",
      "source": [
        "import json"
      ],
      "metadata": {
        "id": "q6jnf0nB_ncp"
      },
      "execution_count": null,
      "outputs": []
    },
    {
      "cell_type": "code",
      "source": [
        "json_data = json.loads(output.content)\n",
        "print(type(json_data))\n",
        "print(json_data.keys())"
      ],
      "metadata": {
        "colab": {
          "base_uri": "https://localhost:8080/"
        },
        "id": "qAArbEJV_qJR",
        "outputId": "769ef6a6-2117-4a91-ba76-864d2fe26315"
      },
      "execution_count": null,
      "outputs": [
        {
          "output_type": "stream",
          "name": "stdout",
          "text": [
            "<class 'dict'>\n",
            "dict_keys(['sonuc_sayisi', 'yorum', 'sonuclar'])\n"
          ]
        }
      ]
    },
    {
      "cell_type": "code",
      "source": [
        "sonuc_sayisi = int(json_data.get('sonuc_sayisi'))\n",
        "sonuc_sayisi"
      ],
      "metadata": {
        "colab": {
          "base_uri": "https://localhost:8080/"
        },
        "id": "D0-gaORF_8R-",
        "outputId": "92cfc45f-d27c-4bf6-ef71-93bc08a32c20"
      },
      "execution_count": null,
      "outputs": [
        {
          "output_type": "execute_result",
          "data": {
            "text/plain": [
              "3"
            ]
          },
          "metadata": {},
          "execution_count": 83
        }
      ]
    },
    {
      "cell_type": "code",
      "source": [
        "yorum = json_data.get('yorum')\n",
        "yorum"
      ],
      "metadata": {
        "colab": {
          "base_uri": "https://localhost:8080/",
          "height": 35
        },
        "id": "TMy18qQnAEuE",
        "outputId": "589d108d-7ea1-496c-c9bb-8db6f46439b5"
      },
      "execution_count": null,
      "outputs": [
        {
          "output_type": "execute_result",
          "data": {
            "text/plain": [
              "'Alkolsüz kokteyl tarifleri için aşağıdaki siteleri inceleyebilirsiniz.'"
            ],
            "application/vnd.google.colaboratory.intrinsic+json": {
              "type": "string"
            }
          },
          "metadata": {},
          "execution_count": 85
        }
      ]
    },
    {
      "cell_type": "code",
      "source": [
        "sonuclar: list = json_data.get('sonuclar')\n",
        "len(sonuclar)"
      ],
      "metadata": {
        "colab": {
          "base_uri": "https://localhost:8080/"
        },
        "id": "DohirN_ZAJTn",
        "outputId": "596b7cef-11f8-4404-ed74-909b4ca8d7b2"
      },
      "execution_count": null,
      "outputs": [
        {
          "output_type": "execute_result",
          "data": {
            "text/plain": [
              "3"
            ]
          },
          "metadata": {},
          "execution_count": 86
        }
      ]
    },
    {
      "cell_type": "code",
      "source": [
        "sonuc_sayisi = int(json_data.get('sonuc_sayisi', 0))\n",
        "if sonuc_sayisi == 0:\n",
        "  print('Sonuç bulkunamadı...')\n",
        "else:\n",
        "  yorum = json_data.get('yorum')\n",
        "  print(yorum)\n",
        "  sonuclar = json_data.get('sonuclar')\n",
        "  if isinstance(sonuclar, list):\n",
        "    if len(sonuclar) > 0:\n",
        "      for e, s in enumerate(sonuclar, start=1):\n",
        "        print(\"{} - {}\".format(e, s.get('adres')))\n",
        "        print('\\t\\t {}'.format(s.get('kisa_aciklama')))\n",
        "        print('\\t\\t Alaka düzeyi: {}'.format(s.get('alaka_duzeyi')))\n",
        "        print('\\t\\t {}'.format(\n",
        "          '-'.join([d for d in s.get('diller')])\n",
        "        ))"
      ],
      "metadata": {
        "colab": {
          "base_uri": "https://localhost:8080/"
        },
        "id": "WVG7mtw4AP7N",
        "outputId": "99502c9d-45ca-46ee-85bb-8a6309ab5079"
      },
      "execution_count": null,
      "outputs": [
        {
          "output_type": "stream",
          "name": "stdout",
          "text": [
            "Alkolsüz kokteyl tarifleri için aşağıdaki siteleri inceleyebilirsiniz.\n",
            "1 - https://www.kokteylrehberi.com/alkolsuz-kokteyl-tarifleri\n",
            "\t\t Bu sitede çeşitli alkolsüz kokteyl tarifleri bulabilirsiniz.\n",
            "\t\t Alaka düzeyi: 10\n",
            "\t\t Türkçe\n",
            "2 - https://www.alkolsuzkokteyller.com\n",
            "\t\t Bu sitede alkolsüz kokteyl tarifleri ve içecek önerileri bulabilirsiniz.\n",
            "\t\t Alaka düzeyi: 8\n",
            "\t\t Türkçe\n",
            "3 - https://www.alkolsuzkokteyl.com\n",
            "\t\t Bu sitede sağlıklı ve lezzetli alkolsüz içecek tarifleri bulabilirsiniz.\n",
            "\t\t Alaka düzeyi: 7\n",
            "\t\t Türkçe\n"
          ]
        }
      ]
    },
    {
      "cell_type": "markdown",
      "source": [
        "### Fonksiyona Çevirelim"
      ],
      "metadata": {
        "id": "jZ4yGsdMAud3"
      }
    },
    {
      "cell_type": "code",
      "source": [
        "\n",
        "def start_search(chat, user_message:str) -> dict:\n",
        "  system_msg = \"\"\"\n",
        "        Sen dünyanın en geniş ve güçlü internet arama makinesisin ve kesinlikle yalancı değilsin. Sana sorulan konularda örnek siteleri aşağıdaki json formatına uygun olarak json formatında cevaplayacaksın. \"alaka_duzeyi\" alanı sonucunu getirdiğin sitenin yapılan sorguyla ile alakasının 10 ile 1 arasında değerlendirmesidir. 1 en alakasız, 10 en alakalı şeklinde, bu değer tekrar edebilir. Sorgular yarım olsa bile en yakın anlamdaki siteleri getir. \"kısa_aciklama\" alanı 216 karakteri geçmeyecek şekilde, ilgili internet sitesinin açıklaması olacak.\n",
        "\n",
        "        {\n",
        "            \"sonuc_sayisi\": \"bulunan sonuc sayılarını buraya yaz\",\n",
        "            \"yorum\": \"buraya kendi kısa yorumunu yazacaksın\",\n",
        "            \"sonuclar\": [\n",
        "                {\n",
        "                    \"alaka_duzeyi\": 10,\n",
        "                    \"diller\": [\"Türkçe\", \"Çok dilli\"],\n",
        "                    \"kisa_aciklama\": \"Bu sitede internet araması yapılabilir\",\n",
        "                    \"adres\": \"https://www.google.com\"\n",
        "                },\n",
        "                {\n",
        "                    \"alaka_duzeyi\": 10,\n",
        "                    \"diller\": [\"İngilizce\"],\n",
        "                    \"kisa_aciklama\": \"Bu sitede fizik problemlerinin formülasyonunu ve çözümlerini bulabilirsiniz.\",\n",
        "                    \"adres\": \"https://www.physicsforums.com\"\n",
        "                },\n",
        "                {\n",
        "                    \"alaka_duzeyi\": 5,\n",
        "                    \"diller\": [\"Türkçe\", \"Çok dilli\"],\n",
        "                    \"kisa_aciklama\": \"bu sitede video izlenebilir\",\n",
        "                    \"adres\": \"https://www.youtube.com\"\n",
        "                },\n",
        "            ],\n",
        "        }\n",
        "        ----\n",
        "        ----\n",
        "        bilmediğin konularda aşağıdaki gibi bir json sonucu vereceksin:\n",
        "\n",
        "        {\n",
        "        \"sonuc_sayisi\": 0,\n",
        "        \"Sebep\": \"Aranan kriterde site bulunamadı. Bunu daha iyi anlatabilirsin\"\n",
        "        }\n",
        "        \"\"\"\n",
        "\n",
        "  messages = [\n",
        "        SystemMessage(content= system_msg ),\n",
        "        HumanMessage(content=user_message)\n",
        "    ]\n",
        "  output = chat(messages = messages)\n",
        "  return json.loads(output.content)\n",
        "\n",
        "\n",
        "def run(user_message:str) -> None:\n",
        "  chat = ChatOpenAI(\n",
        "      api_key=openai_apikey,\n",
        "      model='gpt-4', # gpt-3.5-turbo\n",
        "      temperature=0.5,\n",
        "      max_tokens=1024,\n",
        "      max_retries=3\n",
        "      )\n",
        "  json_data = start_search(chat, user_message)\n",
        "  sonuc_sayisi = int(json_data.get('sonuc_sayisi', 0))\n",
        "  if sonuc_sayisi == 0:\n",
        "    print('Sonuç bulkunamadı...')\n",
        "  else:\n",
        "    yorum = json_data.get('yorum')\n",
        "    print(yorum)\n",
        "    sonuclar = json_data.get('sonuclar')\n",
        "    if isinstance(sonuclar, list):\n",
        "      if len(sonuclar) > 0:\n",
        "        for e, s in enumerate(sonuclar, start=1):\n",
        "          print(\"{} - {}\".format(e, s.get('adres')))\n",
        "          print('\\t\\t {}'.format(s.get('kisa_aciklama')))\n",
        "          print('\\t\\t Alaka düzeyi: {}'.format(s.get('alaka_duzeyi')))\n",
        "          print('\\t\\t {}'.format(\n",
        "            '-'.join([d for d in s.get('diller')])\n",
        "          ))\n",
        "\n"
      ],
      "metadata": {
        "id": "QorxX8uoAw8I"
      },
      "execution_count": null,
      "outputs": []
    },
    {
      "cell_type": "code",
      "source": [
        "user_message = 'Kuantum fiziğini öğrenebileceğim internet sayfları'\n",
        "run(user_message = user_message)"
      ],
      "metadata": {
        "colab": {
          "base_uri": "https://localhost:8080/"
        },
        "id": "ITl-Nhh_B1Z3",
        "outputId": "827fb9eb-d658-4304-ab4d-3e1fac2bdd94"
      },
      "execution_count": null,
      "outputs": [
        {
          "output_type": "stream",
          "name": "stdout",
          "text": [
            "Kuantum fiziği üzerine eğitimler ve bilgiler sunan siteleri listeledim.\n",
            "1 - https://quantummechanics.stanford.edu\n",
            "\t\t Stanford Üniversitesi'nin kuantum mekaniği dersleri ve kaynaklarına erişim sağlar.\n",
            "\t\t Alaka düzeyi: 10\n",
            "\t\t İngilizce\n",
            "2 - https://www.quantum-physics.polytechnique.fr\n",
            "\t\t Kuantum fiziği üzerine çeşitli dersler ve bilgiler içerir.\n",
            "\t\t Alaka düzeyi: 9\n",
            "\t\t İngilizce\n",
            "3 - https://www.fiziktamamen.com\n",
            "\t\t Kuantum fiziği üzerine Türkçe ve İngilizce dersler ve bilgiler sunar.\n",
            "\t\t Alaka düzeyi: 8\n",
            "\t\t Türkçe-Çok dilli\n"
          ]
        }
      ]
    }
  ]
}